{
 "cells": [
  {
   "cell_type": "code",
   "execution_count": 1,
   "id": "8c505161",
   "metadata": {},
   "outputs": [],
   "source": [
    "students = [\n",
    "    {\n",
    "        \"id\": \"100001\",\n",
    "        \"student\": \"Ada Lovelace\",\n",
    "        \"coffee_preference\": \"light\",\n",
    "        \"course\": \"web development\",\n",
    "        \"grades\": [70, 91, 82, 71],\n",
    "        \"pets\": [{\"species\": \"horse\", \"age\": 8}],\n",
    "    },\n",
    "    {\n",
    "        \"id\": \"100002\",\n",
    "        \"student\": \"Thomas Bayes\",\n",
    "        \"coffee_preference\": \"medium\",\n",
    "        \"course\": \"data science\",\n",
    "        \"grades\": [75, 73, 86, 100],\n",
    "        \"pets\": [],\n",
    "    },\n",
    "    {\n",
    "        \"id\": \"100003\",\n",
    "        \"student\": \"Marie Curie\",\n",
    "        \"coffee_preference\": \"light\",\n",
    "        \"course\": \"web development\",\n",
    "        \"grades\": [70, 89, 69, 65],\n",
    "        \"pets\": [{\"species\": \"cat\", \"age\": 0}],\n",
    "    },\n",
    "    {\n",
    "        \"id\": \"100004\",\n",
    "        \"student\": \"Grace Hopper\",\n",
    "        \"coffee_preference\": \"dark\",\n",
    "        \"course\": \"data science\",\n",
    "        \"grades\": [73, 66, 83, 92],\n",
    "        \"pets\": [{\"species\": \"dog\", \"age\": 4}, {\"species\": \"cat\", \"age\": 4}],\n",
    "    },\n",
    "    {\n",
    "        \"id\": \"100005\",\n",
    "        \"student\": \"Alan Turing\",\n",
    "        \"coffee_preference\": \"dark\",\n",
    "        \"course\": \"web development\",\n",
    "        \"grades\": [78, 98, 85, 65],\n",
    "        \"pets\": [\n",
    "            {\"species\": \"horse\", \"age\": 6},\n",
    "            {\"species\": \"horse\", \"age\": 7},\n",
    "            {\"species\": \"dog\", \"age\": 5},\n",
    "        ],\n",
    "    },\n",
    "    {\n",
    "        \"id\": \"100006\",\n",
    "        \"student\": \"Rosalind Franklin\",\n",
    "        \"coffee_preference\": \"dark\",\n",
    "        \"course\": \"data science\",\n",
    "        \"grades\": [76, 70, 96, 81],\n",
    "        \"pets\": [],\n",
    "    },\n",
    "    {\n",
    "        \"id\": \"100007\",\n",
    "        \"student\": \"Elizabeth Blackwell\",\n",
    "        \"coffee_preference\": \"dark\",\n",
    "        \"course\": \"web development\",\n",
    "        \"grades\": [69, 94, 89, 86],\n",
    "        \"pets\": [{\"species\": \"cat\", \"age\": 10}],\n",
    "    },\n",
    "    {\n",
    "        \"id\": \"100008\",\n",
    "        \"student\": \"Rene Descartes\",\n",
    "        \"coffee_preference\": \"medium\",\n",
    "        \"course\": \"data science\",\n",
    "        \"grades\": [87, 79, 90, 99],\n",
    "        \"pets\": [{\"species\": \"cat\", \"age\": 10}, {\"species\": \"cat\", \"age\": 8}],\n",
    "    },\n",
    "    {\n",
    "        \"id\": \"100009\",\n",
    "        \"student\": \"Ahmed Zewail\",\n",
    "        \"coffee_preference\": \"medium\",\n",
    "        \"course\": \"data science\",\n",
    "        \"grades\": [74, 99, 93, 89],\n",
    "        \"pets\": [{\"species\": \"cat\", \"age\": 0}, {\"species\": \"cat\", \"age\": 0}],\n",
    "    },\n",
    "    {\n",
    "        \"id\": \"100010\",\n",
    "        \"student\": \"Chien-Shiung Wu\",\n",
    "        \"coffee_preference\": \"medium\",\n",
    "        \"course\": \"web development\",\n",
    "        \"grades\": [82, 92, 91, 65],\n",
    "        \"pets\": [{\"species\": \"cat\", \"age\": 8}],\n",
    "    },\n",
    "    {\n",
    "        \"id\": \"100011\",\n",
    "        \"student\": \"William Sanford Nye\",\n",
    "        \"coffee_preference\": \"dark\",\n",
    "        \"course\": \"data science\",\n",
    "        \"grades\": [70, 92, 65, 99],\n",
    "        \"pets\": [{\"species\": \"cat\", \"age\": 8}, {\"species\": \"cat\", \"age\": 5}],\n",
    "    },\n",
    "    {\n",
    "        \"id\": \"100012\",\n",
    "        \"student\": \"Carl Sagan\",\n",
    "        \"coffee_preference\": \"medium\",\n",
    "        \"course\": \"data science\",\n",
    "        \"grades\": [100, 86, 91, 87],\n",
    "        \"pets\": [{\"species\": \"cat\", \"age\": 10}],\n",
    "    },\n",
    "    {\n",
    "        \"id\": \"100013\",\n",
    "        \"student\": \"Jane Goodall\",\n",
    "        \"coffee_preference\": \"light\",\n",
    "        \"course\": \"web development\",\n",
    "        \"grades\": [80, 70, 68, 98],\n",
    "        \"pets\": [{\"species\": \"horse\", \"age\": 4}],\n",
    "    },\n",
    "    {\n",
    "        \"id\": \"100014\",\n",
    "        \"student\": \"Richard Feynman\",\n",
    "        \"coffee_preference\": \"medium\",\n",
    "        \"course\": \"web development\",\n",
    "        \"grades\": [73, 99, 86, 98],\n",
    "        \"pets\": [{\"species\": \"dog\", \"age\": 6}],\n",
    "    },\n",
    "]"
   ]
  },
  {
   "cell_type": "code",
   "execution_count": 3,
   "id": "e35a1a85",
   "metadata": {},
   "outputs": [
    {
     "name": "stdout",
     "output_type": "stream",
     "text": [
      "14\n"
     ]
    }
   ],
   "source": [
    "# 1. How many students are there?\n",
    "print(len(students))"
   ]
  },
  {
   "cell_type": "code",
   "execution_count": 7,
   "id": "eda7b078",
   "metadata": {},
   "outputs": [
    {
     "name": "stdout",
     "output_type": "stream",
     "text": [
      "['light', 'medium', 'light', 'dark', 'dark', 'dark', 'dark', 'medium', 'medium', 'medium', 'dark', 'medium', 'light', 'medium']\n",
      "\n",
      "People who prefer light:  3\n",
      "\n",
      "People who prefer medium:  6\n",
      "\n",
      "People who prefer dark:  5\n"
     ]
    }
   ],
   "source": [
    "# 2. How many students prefer light coffee? For each type of coffee roast?\n",
    "import math\n",
    "search_light = \"light\"\n",
    "search_medium = \"medium\"\n",
    "search_darl = \"dark\"\n",
    "coffee_people = []\n",
    "for i in students:\n",
    "    coffee_people.append(i[\"coffee_preference\"])\n",
    "    \n",
    "print(coffee_people)\n",
    "\n",
    "count1 = 0\n",
    "for i in coffee_people:\n",
    "    if i == search_light:\n",
    "        count1 += 1\n",
    "        \n",
    "count2 = 0\n",
    "for i in coffee_people:\n",
    "    if i == search_medium:\n",
    "        count2 += 1\n",
    "        \n",
    "count3 = 0\n",
    "for i in coffee_people:\n",
    "    if i == search_darl:\n",
    "        count3 += 1\n",
    "        \n",
    "print(\"\\nPeople who prefer light: \", count1)\n",
    "print(\"\\nPeople who prefer medium: \", count2)\n",
    "print(\"\\nPeople who prefer dark: \", count3)"
   ]
  },
  {
   "cell_type": "code",
   "execution_count": 58,
   "id": "e3ada83f",
   "metadata": {},
   "outputs": [
    {
     "name": "stdout",
     "output_type": "stream",
     "text": [
      "[[{'species': 'horse', 'age': 8}], [{'species': 'cat', 'age': 0}], [{'species': 'dog', 'age': 4}, {'species': 'cat', 'age': 4}], [{'species': 'horse', 'age': 6}, {'species': 'horse', 'age': 7}, {'species': 'dog', 'age': 5}], [{'species': 'cat', 'age': 10}], [{'species': 'cat', 'age': 10}, {'species': 'cat', 'age': 8}], [{'species': 'cat', 'age': 0}, {'species': 'cat', 'age': 0}], [{'species': 'cat', 'age': 8}], [{'species': 'cat', 'age': 8}, {'species': 'cat', 'age': 5}], [{'species': 'cat', 'age': 10}], [{'species': 'horse', 'age': 4}], [{'species': 'dog', 'age': 6}]]\n",
      "\n",
      "There are this many pets:  12\n",
      "\n",
      "\n",
      " {'species': 'horse', 'age': 8}\n",
      "[{'species': 'dog', 'age': 6}]\n",
      "\n",
      "There this many people with dogs:  3\n",
      "\n",
      "There this many people with dogs:  10\n",
      "\n",
      "There this many people with dogs:  5\n"
     ]
    }
   ],
   "source": [
    "# 3. How many types of each pet are there?\n",
    "\n",
    "animal_keepers = [ i[\"pets\"] for i in students if i[\"pets\"] != [] ]\n",
    "\n",
    "#for i in students:\n",
    "#    if i[\"pets\"] != []:\n",
    "#        animal_keepers.append(i[\"pets\"])\n",
    "\n",
    "\n",
    "print(animal_keepers)\n",
    "print(\"\\nThere are this many pets: \",len(animal_keepers))\n",
    "print(\"\\n\\n\",animal_keepers[0][0])\n",
    "\n",
    "#print(type(animal_keepers[0]))\n",
    "type_animals = []\n",
    "for i in animal_keepers:\n",
    "    type_animals.append(i)\n",
    "    \n",
    "print(i)\n",
    "    \n",
    "#type_animals = [k for i in animal_keepers for k in i[\"species\"]]\n",
    "#print(\"\\n\\n\",type_animals.count())\n",
    "\n",
    "\n",
    "count = 0\n",
    "countCat = 0\n",
    "countHorse = 0\n",
    "good_boy = \"dog\"\n",
    "suprise_pupper = \"cat\"\n",
    "land_dog = \"horse\"\n",
    "# For every element in the list animal_keepers\n",
    "for animal in animal_keepers:\n",
    "    #For every element in animals\n",
    "    for i in animal:\n",
    "        #Access the first item in the list which is a dictionary, so we access the key \"species\" for that value to equal\n",
    "        # good_boy which is a \"dog\"\n",
    "        if animal[0][\"species\"] == good_boy:\n",
    "            #add to the counter if true\n",
    "            count += 1\n",
    "        elif animal[0][\"species\"] == suprise_pupper:\n",
    "            #add to the counter if true\n",
    "            countCat += 1 \n",
    "        else:\n",
    "            animal[0][\"species\"] == land_dog\n",
    "            #add to the counter if true\n",
    "            countHorse += 1 \n",
    "print(\"\\nThere this many people with dogs: \",count)\n",
    "print(\"\\nThere this many people with cats: \",countCat)\n",
    "print(\"\\nThere this many people with horse: \",countHorse)\n",
    "\n"
   ]
  },
  {
   "cell_type": "code",
   "execution_count": 108,
   "id": "93fddce7",
   "metadata": {},
   "outputs": [
    {
     "name": "stdout",
     "output_type": "stream",
     "text": [
      "[[70, 91, 82, 71], [75, 73, 86, 100], [70, 89, 69, 65], [73, 66, 83, 92], [78, 98, 85, 65], [76, 70, 96, 81], [69, 94, 89, 86], [87, 79, 90, 99], [74, 99, 93, 89], [82, 92, 91, 65], [70, 92, 65, 99], [100, 86, 91, 87], [80, 70, 68, 98], [73, 99, 86, 98]]\n",
      "\n",
      "There are this many grades per student:  4\n",
      "\n",
      "They are not the same!\n"
     ]
    }
   ],
   "source": [
    "# 4. How many grades does each student have? Do they all have the same number of grades?\n",
    "\n",
    "list_of_grades = [grades[\"grades\"] for grades in students]\n",
    "\n",
    "    \n",
    "print(list_of_grades)\n",
    "\n",
    "print(\"\\nThere are this many grades per student: \",len(list_of_grades[0]))\n",
    "print(\"\\nThey are not the same!\")"
   ]
  },
  {
   "cell_type": "code",
   "execution_count": 8,
   "id": "5cb6b06a",
   "metadata": {},
   "outputs": [
    {
     "name": "stdout",
     "output_type": "stream",
     "text": [
      "This is a list of averages:  [78.5, 83.5, 73.25, 78.5, 81.5, 80.75, 84.5, 88.75, 88.75, 82.5, 81.5, 91, 79, 89]\n"
     ]
    }
   ],
   "source": [
    "# 5. What is each student's grade average?\n",
    "from statistics import mean\n",
    "#list_of_grades2 = []\n",
    "list_of_grades2 = [mean(grades[\"grades\"]) for grades in students]\n",
    "\n",
    "#for grades in students:\n",
    "#    list_of_grades2.append(mean(grades[\"grades\"]))\n",
    "    \n",
    "print(\"This is a list of averages: \",list_of_grades2)"
   ]
  },
  {
   "cell_type": "code",
   "execution_count": 39,
   "id": "b27493b9",
   "metadata": {},
   "outputs": [
    {
     "name": "stdout",
     "output_type": "stream",
     "text": [
      "[[{'species': 'horse', 'age': 8}], 0, [{'species': 'cat', 'age': 0}], [{'species': 'dog', 'age': 4}, {'species': 'cat', 'age': 4}], [{'species': 'horse', 'age': 6}, {'species': 'horse', 'age': 7}, {'species': 'dog', 'age': 5}], 0, [{'species': 'cat', 'age': 10}], [{'species': 'cat', 'age': 10}, {'species': 'cat', 'age': 8}], [{'species': 'cat', 'age': 0}, {'species': 'cat', 'age': 0}], [{'species': 'cat', 'age': 8}], [{'species': 'cat', 'age': 8}, {'species': 'cat', 'age': 5}], [{'species': 'cat', 'age': 10}], [{'species': 'horse', 'age': 4}], [{'species': 'dog', 'age': 6}]]\n",
      "\n",
      "\n",
      "This is a list of how many pets a student has : [1, 0, 1, 2, 3, 0, 1, 2, 2, 1, 2, 1, 1, 1]\n"
     ]
    }
   ],
   "source": [
    "# 6. How many pets does each student have?\n",
    "\n",
    "list_of_pets = []\n",
    "\n",
    "for i in students:\n",
    "    if i[\"pets\"] == []:\n",
    "        list_of_pets.append(0)\n",
    "    else:\n",
    "        list_of_pets.append(i[\"pets\"])\n",
    "\n",
    "print(list_of_pets)\n",
    "\n",
    "\n",
    "list_of_num_pets = []\n",
    "for num in list_of_pets:\n",
    "    if num != 0:\n",
    "        list_of_num_pets.append(len(num))\n",
    "    else:\n",
    "        list_of_num_pets.append(0)\n",
    "    \n",
    "print(\"\\n\\nThis is a list of how many pets a student has :\",list_of_num_pets)"
   ]
  },
  {
   "cell_type": "code",
   "execution_count": 40,
   "id": "8df703f5",
   "metadata": {},
   "outputs": [
    {
     "name": "stdout",
     "output_type": "stream",
     "text": [
      "There are this many students in web development:  7\n"
     ]
    }
   ],
   "source": [
    "# 7. How many students are in web development? data science?\n",
    "\n",
    "what_course = []\n",
    "\n",
    "for i in students:\n",
    "    what_course.append(i[\"course\"])\n",
    "\n",
    "    \n",
    "count = 0\n",
    "    \n",
    "for i in what_course:\n",
    "    if i == \"web development\":\n",
    "        count += 1\n",
    "        \n",
    "print(\"There are this many students in web development: \", count)"
   ]
  },
  {
   "cell_type": "code",
   "execution_count": 101,
   "id": "af10996d",
   "metadata": {},
   "outputs": [
    {
     "name": "stdout",
     "output_type": "stream",
     "text": [
      "\n",
      "\n",
      " [{'id': '100001', 'student': 'Ada Lovelace', 'coffee_preference': 'light', 'course': 'web development', 'grades': [70, 91, 82, 71], 'pets': [{'species': 'horse', 'age': 8}]}, {'id': '100003', 'student': 'Marie Curie', 'coffee_preference': 'light', 'course': 'web development', 'grades': [70, 89, 69, 65], 'pets': [{'species': 'cat', 'age': 0}]}, {'id': '100005', 'student': 'Alan Turing', 'coffee_preference': 'dark', 'course': 'web development', 'grades': [78, 98, 85, 65], 'pets': [{'species': 'horse', 'age': 6}, {'species': 'horse', 'age': 7}, {'species': 'dog', 'age': 5}]}, {'id': '100007', 'student': 'Elizabeth Blackwell', 'coffee_preference': 'dark', 'course': 'web development', 'grades': [69, 94, 89, 86], 'pets': [{'species': 'cat', 'age': 10}]}, {'id': '100010', 'student': 'Chien-Shiung Wu', 'coffee_preference': 'medium', 'course': 'web development', 'grades': [82, 92, 91, 65], 'pets': [{'species': 'cat', 'age': 8}]}, {'id': '100013', 'student': 'Jane Goodall', 'coffee_preference': 'light', 'course': 'web development', 'grades': [80, 70, 68, 98], 'pets': [{'species': 'horse', 'age': 4}]}, {'id': '100014', 'student': 'Richard Feynman', 'coffee_preference': 'medium', 'course': 'web development', 'grades': [73, 99, 86, 98], 'pets': [{'species': 'dog', 'age': 6}]}]\n",
      "\n",
      "\n",
      " [1, 1, 3, 1, 1, 1, 1]\n",
      "\n",
      "\n",
      "This is the average number for web developments students with pets:  1.2857142857142858\n"
     ]
    }
   ],
   "source": [
    "# 8. What is the average number of pets for students in web development?\n",
    "\n",
    "#list of all students in web dev\n",
    "#web_pets = [i for i in students if i[\"course\"] == \"web development\"]\n",
    "\n",
    "web_pets = []\n",
    "for i in students:\n",
    "    if i[\"course\"] == \"web development\" and i[\"pets\"] != []:\n",
    "        web_pets.append(i)\n",
    "            \n",
    "print(\"\\n\\n\",web_pets)\n",
    "\n",
    "num_web_pets = []\n",
    "for i in web_pets:\n",
    "    num_web_pets.append(i[\"pets\"])\n",
    "    \n",
    "list_of_num_pets = []\n",
    "for num in num_web_pets:\n",
    "    list_of_num_pets.append(len(num))\n",
    "    \n",
    "print(\"\\n\\n\", list_of_num_pets)\n",
    "print(\"\\n\\nThis is the average number for web developments students with pets: \", mean(list_of_num_pets))\n",
    "#print(\"Average number of web development pets: \", (sum(num_web_pets)/len(num_web_pets)) )\n",
    "        \n",
    "        "
   ]
  },
  {
   "cell_type": "code",
   "execution_count": 136,
   "id": "0161f73b",
   "metadata": {},
   "outputs": [
    {
     "name": "stdout",
     "output_type": "stream",
     "text": [
      "[{'id': '100001', 'student': 'Ada Lovelace', 'coffee_preference': 'light', 'course': 'web development', 'grades': [70, 91, 82, 71], 'pets': [{'species': 'horse', 'age': 8}]}, {'id': '100003', 'student': 'Marie Curie', 'coffee_preference': 'light', 'course': 'web development', 'grades': [70, 89, 69, 65], 'pets': [{'species': 'cat', 'age': 0}]}, {'id': '100005', 'student': 'Alan Turing', 'coffee_preference': 'dark', 'course': 'web development', 'grades': [78, 98, 85, 65], 'pets': [{'species': 'horse', 'age': 6}, {'species': 'horse', 'age': 7}, {'species': 'dog', 'age': 5}]}, {'id': '100007', 'student': 'Elizabeth Blackwell', 'coffee_preference': 'dark', 'course': 'web development', 'grades': [69, 94, 89, 86], 'pets': [{'species': 'cat', 'age': 10}]}, {'id': '100010', 'student': 'Chien-Shiung Wu', 'coffee_preference': 'medium', 'course': 'web development', 'grades': [82, 92, 91, 65], 'pets': [{'species': 'cat', 'age': 8}]}, {'id': '100013', 'student': 'Jane Goodall', 'coffee_preference': 'light', 'course': 'web development', 'grades': [80, 70, 68, 98], 'pets': [{'species': 'horse', 'age': 4}]}, {'id': '100014', 'student': 'Richard Feynman', 'coffee_preference': 'medium', 'course': 'web development', 'grades': [73, 99, 86, 98], 'pets': [{'species': 'horse', 'age': 8}], 'age': [{'species': 'dog', 'age': 6}]}]\n",
      "\n",
      "\n",
      " [[{'species': 'horse', 'age': 8}], [{'species': 'cat', 'age': 0}], [{'species': 'horse', 'age': 6}, {'species': 'horse', 'age': 7}, {'species': 'dog', 'age': 5}], [{'species': 'cat', 'age': 10}], [{'species': 'cat', 'age': 8}], [{'species': 'horse', 'age': 4}], [{'species': 'horse', 'age': 8}]]\n",
      "\n",
      "\n",
      " [8, 0, 6, 7, 5, 10, 8, 4, 8]\n",
      "\n",
      "\n",
      "Average pet age for all students in data science:  6.222222222222222\n"
     ]
    }
   ],
   "source": [
    "# 9. What is the average pet age for students in data science?\n",
    "\n",
    "data_pets = []\n",
    "for i in students:\n",
    "    if i[\"course\"] == \"web development\" and i[\"pets\"] != []:\n",
    "        data_pets.append(i)\n",
    "\n",
    "print(data_pets)\n",
    "        \n",
    "num_data_pets = []\n",
    "for i in data_pets:\n",
    "    num_data_pets.append(i[\"pets\"])\n",
    "    \n",
    "print(\"\\n\\n\", num_data_pets)\n",
    "\n",
    "pet_ages = []\n",
    "for i in num_data_pets:\n",
    "    for k in i:\n",
    "        pet_ages.append(k[\"age\"])\n",
    "        #print(\"\\n\\n\",k)\n",
    "        #pet_ages.append(k)\n",
    "    \n",
    "print(\"\\n\\n\",pet_ages)\n",
    "print(\"\\n\\nAverage pet age for all students in data science: \",mean(pet_ages))"
   ]
  },
  {
   "cell_type": "code",
   "execution_count": 174,
   "id": "0db87a94",
   "metadata": {},
   "outputs": [
    {
     "name": "stdout",
     "output_type": "stream",
     "text": [
      "7\n",
      "\n",
      "\n",
      " ['medium', 'dark', 'dark', 'medium', 'medium', 'dark', 'medium']\n",
      "\n",
      "This is the count for dark coffee:  3\n",
      "\n",
      "This is the count for medium coffee:  4\n",
      "\n",
      "This is the count for light coffee:  0\n",
      "\n",
      "\n",
      "This is the most common coffee preference:  medium\n"
     ]
    }
   ],
   "source": [
    "# 10. What is most frequent coffee preference for data science students?\n",
    "\n",
    "data_science_kids = []\n",
    "for i in students:\n",
    "    if i[\"course\"] == \"data science\":\n",
    "        data_science_kids.append(i)\n",
    "        \n",
    "print(len(data_science_kids))\n",
    "\n",
    "data_coffe = []\n",
    "for i in data_science_kids:\n",
    "    data_coffe.append(i[\"coffee_preference\"])\n",
    "    \n",
    "print(\"\\n\\n\",data_coffe)\n",
    "\n",
    "print(\"\\nThis is the count for dark coffee: \", data_coffe.count(\"dark\"))\n",
    "print(\"\\nThis is the count for medium coffee: \", data_coffe.count(\"medium\"))\n",
    "print(\"\\nThis is the count for light coffee: \", data_coffe.count(\"light\"))\n",
    "\n",
    "\n",
    "most_common_item = max(data_coffe, key = data_coffe.count)\n",
    "print(\"\\n\\nThis is the most common coffee preference: \", most_common_item)"
   ]
  },
  {
   "cell_type": "code",
   "execution_count": 11,
   "id": "7b0ec399",
   "metadata": {},
   "outputs": [
    {
     "name": "stdout",
     "output_type": "stream",
     "text": [
      "This is the least frequent preference:  dark\n"
     ]
    }
   ],
   "source": [
    "# 11. What is the least frequent coffee preference for web development students?\n",
    "\n",
    "web_dev_kids = []\n",
    "for i in students:\n",
    "    if i[\"course\"] == \"web development\":\n",
    "        web_dev_kids.append(i)\n",
    "\n",
    "web_coffe = []\n",
    "for i in web_dev_kids:\n",
    "    web_coffe.append(i[\"coffee_preference\"])        \n",
    "        \n",
    "        \n",
    "least_common_coffee = min(web_coffe, key = web_coffe.count)\n",
    "\n",
    "print(\"This is the least frequent preference: \", least_common_coffee)"
   ]
  },
  {
   "cell_type": "code",
   "execution_count": 169,
   "id": "64c4979d",
   "metadata": {},
   "outputs": [
    {
     "name": "stdout",
     "output_type": "stream",
     "text": [
      "[{'id': '100004', 'student': 'Grace Hopper', 'coffee_preference': 'dark', 'course': 'data science', 'grades': [73, 66, 83, 92], 'pets': [{'species': 'dog', 'age': 4}, {'species': 'cat', 'age': 4}]}, {'id': '100005', 'student': 'Alan Turing', 'coffee_preference': 'dark', 'course': 'web development', 'grades': [78, 98, 85, 65], 'pets': [{'species': 'horse', 'age': 6}, {'species': 'horse', 'age': 7}, {'species': 'dog', 'age': 5}]}, {'id': '100008', 'student': 'Rene Descartes', 'coffee_preference': 'medium', 'course': 'data science', 'grades': [87, 79, 90, 99], 'pets': [{'species': 'cat', 'age': 10}, {'species': 'cat', 'age': 8}]}, {'id': '100009', 'student': 'Ahmed Zewail', 'coffee_preference': 'medium', 'course': 'data science', 'grades': [74, 99, 93, 89], 'pets': [{'species': 'cat', 'age': 0}, {'species': 'cat', 'age': 0}]}, {'id': '100011', 'student': 'William Sanford Nye', 'coffee_preference': 'dark', 'course': 'data science', 'grades': [70, 92, 65, 99], 'pets': [{'species': 'cat', 'age': 8}, {'species': 'cat', 'age': 5}]}, {'id': '100014', 'student': 'Richard Feynman', 'coffee_preference': 'medium', 'course': 'web development', 'grades': [73, 99, 86, 98], 'pets': {...}, 'age': [{'species': 'dog', 'age': 6}]}]\n",
      "\n",
      "\n",
      "This is how many people that have more than one pet:  6\n",
      "\n",
      "This is their average grades:  [78.5, 81.5, 88.75, 88.75, 81.5, 89]\n"
     ]
    }
   ],
   "source": [
    "# 12. What is the average grade for students with at least 2 pets?\n",
    "more_pets = []\n",
    "for i in students:\n",
    "    if len(i[\"pets\"]) >= 2:\n",
    "        more_pets.append(i)\n",
    "        \n",
    "print(more_pets)\n",
    "print(\"\\n\\nThis is how many people that have more than one pet: \",len(more_pets))\n",
    "\n",
    "average_grades = [mean(i[\"grades\"]) for i in more_pets]\n",
    "print(\"\\nThis is their average grades: \", average_grades)\n",
    "\n",
    "        "
   ]
  },
  {
   "cell_type": "code",
   "execution_count": 167,
   "id": "5cd24b8f",
   "metadata": {},
   "outputs": [
    {
     "name": "stdout",
     "output_type": "stream",
     "text": [
      "[{'id': '100005', 'student': 'Alan Turing', 'coffee_preference': 'dark', 'course': 'web development', 'grades': [78, 98, 85, 65], 'pets': [{'species': 'horse', 'age': 6}, {'species': 'horse', 'age': 7}, {'species': 'dog', 'age': 5}]}]\n",
      "\n",
      "\n",
      "This is how many people that have more than one pet in web dev:  1\n"
     ]
    }
   ],
   "source": [
    "# 13. How many students have 3 pets?\n",
    "\n",
    "three_pets = []\n",
    "for i in students:\n",
    "    if len(i[\"pets\"]) == 3:\n",
    "        three_pets.append(i)\n",
    "        \n",
    "print(three_pets)\n",
    "print(\"\\n\\nThis is how many people that have 3 pets: \",len(three_pets))"
   ]
  },
  {
   "cell_type": "code",
   "execution_count": 171,
   "id": "d289ea96",
   "metadata": {},
   "outputs": [
    {
     "name": "stdout",
     "output_type": "stream",
     "text": [
      "[{'id': '100002', 'student': 'Thomas Bayes', 'coffee_preference': 'medium', 'course': 'data science', 'grades': [75, 73, 86, 100], 'pets': []}, {'id': '100006', 'student': 'Rosalind Franklin', 'coffee_preference': 'dark', 'course': 'data science', 'grades': [76, 70, 96, 81], 'pets': []}]\n",
      "\n",
      "\n",
      "This is how many people that have 0 pets:  2\n"
     ]
    }
   ],
   "source": [
    "# 14. What is the average grade for students with 0 pets?\n",
    "\n",
    "\n",
    "no_pets = []\n",
    "for i in students:\n",
    "    if len(i[\"pets\"]) == 0:\n",
    "        no_pets.append(i)\n",
    "        \n",
    "print(no_pets)\n",
    "print(\"\\n\\nThis is how many people that have 0 pets: \",len(no_pets))"
   ]
  },
  {
   "cell_type": "code",
   "execution_count": 177,
   "id": "acb40fa3",
   "metadata": {},
   "outputs": [
    {
     "name": "stdout",
     "output_type": "stream",
     "text": [
      "\n",
      "\n",
      "This is the average grade for web development students:  81.17857142857143\n",
      "\n",
      "\n",
      "This is the average grade for data science students:  84.67857142857143\n"
     ]
    }
   ],
   "source": [
    "# 15. What is the average grade for web development students? data science students?\n",
    "\n",
    "average_web = [mean(i[\"grades\"]) for i in web_dev_kids]\n",
    "print(\"\\n\\nThis is the average grade for web development students: \", mean(average_web))\n",
    "\n",
    "average_data = [mean(i[\"grades\"]) for i in data_science_kids]\n",
    "print(\"\\n\\nThis is the average grade for data science students: \", mean(average_data))"
   ]
  },
  {
   "cell_type": "code",
   "execution_count": 182,
   "id": "f1dc249a",
   "metadata": {},
   "outputs": [
    {
     "name": "stdout",
     "output_type": "stream",
     "text": [
      "5\n",
      "[78.5, 81.5, 80.75, 84.5, 81.5]\n",
      "\n",
      "This is the average grade for all dark coffee drinkers:  81.35\n",
      "\n",
      "This is the highest grade for all dark coffee drinkers:  84.5\n",
      "\n",
      "This is the lowest grade for all dark coffee drinkers:  78.5\n"
     ]
    }
   ],
   "source": [
    "# 16. What is the average grade range (i.e. highest grade - lowest grade) for dark coffee drinkers?\n",
    "evil_coffee = []\n",
    "for i in students:\n",
    "    if i[\"coffee_preference\"] == 'dark':\n",
    "        evil_coffee.append(i)\n",
    "        \n",
    "print(len(evil_coffee))\n",
    "\n",
    "average_evil_coffee = [mean(i[\"grades\"]) for i in evil_coffee]\n",
    "print(average_evil_coffee)\n",
    "\n",
    "print(\"\\nThis is the average grade for all dark coffee drinkers: \", mean(average_evil_coffee))\n",
    "print(\"\\nThis is the highest grade for all dark coffee drinkers: \", max(average_evil_coffee))\n",
    "print(\"\\nThis is the lowest grade for all dark coffee drinkers: \", min(average_evil_coffee))"
   ]
  },
  {
   "cell_type": "code",
   "execution_count": 10,
   "id": "4aa2964b",
   "metadata": {},
   "outputs": [
    {
     "name": "stdout",
     "output_type": "stream",
     "text": [
      "5\n",
      "[{'id': '100008', 'student': 'Rene Descartes', 'coffee_preference': 'medium', 'course': 'data science', 'grades': [87, 79, 90, 99], 'pets': [{'species': 'cat', 'age': 10}, {'species': 'cat', 'age': 8}]}, {'id': '100009', 'student': 'Ahmed Zewail', 'coffee_preference': 'medium', 'course': 'data science', 'grades': [74, 99, 93, 89], 'pets': [{'species': 'cat', 'age': 0}, {'species': 'cat', 'age': 0}]}, {'id': '100010', 'student': 'Chien-Shiung Wu', 'coffee_preference': 'medium', 'course': 'web development', 'grades': [82, 92, 91, 65], 'pets': [{'species': 'cat', 'age': 8}]}, {'id': '100012', 'student': 'Carl Sagan', 'coffee_preference': 'medium', 'course': 'data science', 'grades': [100, 86, 91, 87], 'pets': [{'species': 'cat', 'age': 10}]}, {'id': '100014', 'student': 'Richard Feynman', 'coffee_preference': 'medium', 'course': 'web development', 'grades': [73, 99, 86, 98], 'pets': [{'species': 'dog', 'age': 6}]}]\n",
      "[2, 2, 1, 1, 1]\n",
      "\n",
      "This is the average of pets of people who have a medium coffee preference:  1.4\n"
     ]
    }
   ],
   "source": [
    "# 17. What is the average number of pets for medium coffee drinkers?\"\"\n",
    "\n",
    "\"\"\"\n",
    "okay_coffee = []\n",
    "for i in students:\n",
    "    if i[\"coffee_preference\"] == \"medium\" and i[\"pets\"] != []:\n",
    "        okay_coffee.append(i)\n",
    "        \n",
    "print(len(okay_coffee))\n",
    "print(okay_coffee)\n",
    "\n",
    "okay_pets = []\n",
    "for i in okay_coffee:\n",
    "    okay_pets.append(len(i[\"pets\"]))\n",
    "    \n",
    "print(okay_pets)\n",
    "\"\"\"\n",
    "okay_coffe = []\n",
    "for i in students:\n",
    "    if i[\"coffee_preference\"] == 'medium' and i[\"pets\"] != []:\n",
    "        okay_coffe.append(i)\n",
    "    \n",
    "print(len(okay_coffe))\n",
    "print(okay_coffe)\n",
    "\n",
    "okay_pets = []\n",
    "for i in okay_coffe:\n",
    "    okay_pets.append(len(i[\"pets\"]))\n",
    "    \n",
    "print(okay_pets)\n",
    "\n",
    "print(\"\\nThis is the average of pets of people who have a medium coffee preference: \", mean(okay_pets))"
   ]
  },
  {
   "cell_type": "code",
   "execution_count": 52,
   "id": "c949624f",
   "metadata": {},
   "outputs": [
    {
     "name": "stdout",
     "output_type": "stream",
     "text": [
      "horse\n"
     ]
    }
   ],
   "source": [
    "# 18. What is the most common type of pet for web development students?\n",
    "from collections import Counter\n",
    "web_dev_kids\n",
    "web_pets = []\n",
    "for i in web_dev_kids:\n",
    "    for k in i[\"pets\"]:\n",
    "        web_pets.append(k[\"species\"])\n",
    "\n",
    "web_pets\n",
    "\n",
    "counter =Counter(web_pets)\n",
    "        \n",
    "print(counter.most_common(1)[0][0])"
   ]
  },
  {
   "cell_type": "code",
   "execution_count": 193,
   "id": "779f9075",
   "metadata": {},
   "outputs": [
    {
     "name": "stdout",
     "output_type": "stream",
     "text": [
      "[12, 12, 11, 12, 11, 17, 19, 14, 12, 15, 19, 10, 12, 15]\n",
      "\n",
      "\n",
      "This is the average name length:  13.642857142857142\n"
     ]
    }
   ],
   "source": [
    "# 19. What is the average name length?\n",
    "names_length = []\n",
    "for i in students:\n",
    "    names_length.append(len(i[\"student\"]))\n",
    "    \n",
    "print(names_length)\n",
    "\n",
    "print(\"\\n\\nThis is the average name length: \", mean(names_length))"
   ]
  },
  {
   "cell_type": "code",
   "execution_count": 56,
   "id": "a89e6f13",
   "metadata": {},
   "outputs": [
    {
     "name": "stdout",
     "output_type": "stream",
     "text": [
      "This is the oldest pet age in light coffee drinkers:  8\n"
     ]
    }
   ],
   "source": [
    "# 20. What is the highest pet age for light coffee drinkers?\n",
    "\n",
    "light_student = []\n",
    "\n",
    "for student in students:\n",
    "    if student[\"coffee_preference\"] == \"light\":\n",
    "        light_student.append(student)\n",
    "     \n",
    "    \n",
    "light_pet = []    \n",
    "for animal in light_student:\n",
    "    for age in animal[\"pets\"]:\n",
    "        light_pet.append(age[\"age\"])\n",
    "    \n",
    "light_pet\n",
    "print(\"This is the oldest pet age in light coffee drinkers: \",max(light_pet))        "
   ]
  },
  {
   "cell_type": "code",
   "execution_count": null,
   "id": "194d7b06",
   "metadata": {},
   "outputs": [],
   "source": []
  }
 ],
 "metadata": {
  "kernelspec": {
   "display_name": "Python 3",
   "language": "python",
   "name": "python3"
  },
  "language_info": {
   "codemirror_mode": {
    "name": "ipython",
    "version": 3
   },
   "file_extension": ".py",
   "mimetype": "text/x-python",
   "name": "python",
   "nbconvert_exporter": "python",
   "pygments_lexer": "ipython3",
   "version": "3.8.8"
  }
 },
 "nbformat": 4,
 "nbformat_minor": 5
}
