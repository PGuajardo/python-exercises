{
 "cells": [
  {
   "cell_type": "code",
   "execution_count": null,
   "id": "6dc5316a",
   "metadata": {},
   "outputs": [],
   "source": [
    "print(\"What is the day of the week?\\n\")\n",
    "\n",
    "user_day = input(\"Enter day of the week: \")\n",
    "\n",
    "day_of_the_week = \"Monday\"\n",
    "\n",
    "while day_of_the_week != user_day:\n",
    "    print(\"Thats Not the day of the week try again!\\n\")\n",
    "    user_day = input(\"Enter here: \")\n",
    "\n",
    "print(\"Thats right! It's Freaking monday!\")"
   ]
  },
  {
   "cell_type": "markdown",
   "id": "667339ea",
   "metadata": {},
   "source": [
    "### b."
   ]
  },
  {
   "cell_type": "code",
   "execution_count": null,
   "id": "a1659288",
   "metadata": {},
   "outputs": [],
   "source": [
    "print(\"What is the day of the week?\\n\")\n",
    "\n",
    "user_day = input(\"Enter day of the week: \")\n",
    "\n",
    "if user_day == \"Saturday\" or user_day == \"Sunday\":\n",
    "    print(\"This is a weekend! \\n\")\n",
    "else:\n",
    "    print(\"This is a weekday!\")"
   ]
  },
  {
   "cell_type": "markdown",
   "id": "d8e88811",
   "metadata": {},
   "source": [
    "### c."
   ]
  },
  {
   "cell_type": "code",
   "execution_count": null,
   "id": "976cdf88",
   "metadata": {},
   "outputs": [],
   "source": [
    "# - hours per week\n",
    "hours_weekly = 40\n",
    "#  - the hourly rate\n",
    "hourly_rate = 30\n",
    "#  - how much the week's paycheck will be\n",
    "weeks_pay = hours_weekly * hourly_rate\n",
    "# write the python code that calculates the weekly paycheck. You get paid time and a half if you work more than 40 hours\n",
    "clocked_in_hours = input(\"Enter your hours for the week: \")\n",
    "\n",
    "clocked_in_hours = int(clocked_in_hours)\n",
    "\n",
    "if clocked_in_hours > 40:\n",
    "    r = clocked_in_hours % 40\n",
    "    overtime = (r * 30) * 1.5\n",
    "    print(weeks_pay + overtime)\n",
    "else:\n",
    "    print(clocked_in_hours * hourly_rate)"
   ]
  },
  {
   "cell_type": "markdown",
   "id": "e00ed158",
   "metadata": {},
   "source": [
    "## 2"
   ]
  },
  {
   "cell_type": "code",
   "execution_count": null,
   "id": "668bea33",
   "metadata": {},
   "outputs": [],
   "source": [
    "i = 5\n",
    "\n",
    "while i <= 15:\n",
    "    print(i)\n",
    "    i = i + 1"
   ]
  },
  {
   "cell_type": "markdown",
   "id": "0e123c95",
   "metadata": {},
   "source": [
    "### part 2"
   ]
  },
  {
   "cell_type": "code",
   "execution_count": null,
   "id": "e08de42f",
   "metadata": {},
   "outputs": [],
   "source": [
    "i = 0\n",
    "while i in range(100):\n",
    "     i = i + 2\n",
    "     print(i)"
   ]
  },
  {
   "cell_type": "markdown",
   "id": "637654e4",
   "metadata": {},
   "source": [
    "### part 3"
   ]
  },
  {
   "cell_type": "code",
   "execution_count": 3,
   "id": "533558af",
   "metadata": {},
   "outputs": [
    {
     "name": "stdout",
     "output_type": "stream",
     "text": [
      "100\n",
      "95\n",
      "90\n",
      "85\n",
      "80\n",
      "75\n",
      "70\n",
      "65\n",
      "60\n",
      "55\n",
      "50\n",
      "45\n",
      "40\n",
      "35\n",
      "30\n",
      "25\n",
      "20\n",
      "15\n",
      "10\n",
      "5\n",
      "0\n",
      "-5\n",
      "-10\n"
     ]
    }
   ],
   "source": [
    "i = 100\n",
    "while i > -15:\n",
    "    print(i)\n",
    "    i = i - 5"
   ]
  },
  {
   "cell_type": "markdown",
   "id": "a721faa9",
   "metadata": {},
   "source": [
    "### part 4"
   ]
  },
  {
   "cell_type": "code",
   "execution_count": 4,
   "id": "4fd80f94",
   "metadata": {},
   "outputs": [
    {
     "name": "stdout",
     "output_type": "stream",
     "text": [
      "2\n",
      "4\n",
      "16\n",
      "256\n",
      "65536\n"
     ]
    }
   ],
   "source": [
    "i = 2\n",
    "while i < 1000000:\n",
    "    print(i)\n",
    "    i = i*i"
   ]
  },
  {
   "cell_type": "code",
   "execution_count": 15,
   "id": "08b6c012",
   "metadata": {},
   "outputs": [
    {
     "name": "stdout",
     "output_type": "stream",
     "text": [
      "Enter your number: 7\n",
      "7 x 1 = 7\n",
      "7 x 2 = 14\n",
      "7 x 3 = 21\n",
      "7 x 4 = 28\n",
      "7 x 5 = 35\n",
      "7 x 6 = 42\n",
      "7 x 7 = 49\n"
     ]
    }
   ],
   "source": [
    "user_number = input(\"Enter your number: \")\n",
    "user_number = int(user_number)\n",
    "\n",
    "for i in range(1, user_number+1):\n",
    "    multiply = user_number * i\n",
    "    table = \"{} x {} = {}\"\n",
    "    print(table.format(user_number, i, multiply))"
   ]
  },
  {
   "cell_type": "code",
   "execution_count": 30,
   "id": "f233e4cf",
   "metadata": {},
   "outputs": [
    {
     "name": "stdout",
     "output_type": "stream",
     "text": [
      "\n",
      "1\n",
      "22\n",
      "333\n",
      "4444\n",
      "55555\n",
      "666666\n",
      "7777777\n",
      "88888888\n",
      "999999999\n"
     ]
    }
   ],
   "source": [
    "row = 9\n",
    "\n",
    "for i in range(row+1):\n",
    "    for j in range(i):\n",
    "        print(i, end='')\n",
    "    print(\"\")"
   ]
  },
  {
   "cell_type": "code",
   "execution_count": 71,
   "id": "78a88af2",
   "metadata": {},
   "outputs": [
    {
     "name": "stdout",
     "output_type": "stream",
     "text": [
      "Enter a odd number between 1 and 50: 4\n",
      "Not a valid number! \n",
      "\n",
      "Enter a odd number between 1 and 50: -3\n",
      "Not a valid number! \n",
      "\n",
      "Enter a odd number between 1 and 50: 99\n",
      "Not a valid number! \n",
      "\n",
      "Enter a odd number between 1 and 50: 9\n",
      "Here is an odd number: 1\n",
      "Here is an odd number: 3\n",
      "Here is an odd number: 5\n",
      "Here is an odd number: 7\n",
      "Yikes skipping this number: 9\n",
      "Here is an odd number: 11\n",
      "Here is an odd number: 13\n",
      "Here is an odd number: 15\n",
      "Here is an odd number: 17\n",
      "Here is an odd number: 19\n",
      "Here is an odd number: 21\n",
      "Here is an odd number: 23\n",
      "Here is an odd number: 25\n",
      "Here is an odd number: 27\n",
      "Here is an odd number: 29\n",
      "Here is an odd number: 31\n",
      "Here is an odd number: 33\n",
      "Here is an odd number: 35\n",
      "Here is an odd number: 37\n",
      "Here is an odd number: 39\n",
      "Here is an odd number: 41\n",
      "Here is an odd number: 43\n",
      "Here is an odd number: 45\n",
      "Here is an odd number: 47\n",
      "Here is an odd number: 49\n"
     ]
    }
   ],
   "source": [
    "user_odd_number  = input(\"Enter a odd number between 1 and 50: \")\n",
    "\n",
    "while user_odd_number.isdigit() != True or int(user_odd_number) % 2 == 0 or int(user_odd_number) > 50 or int(user_odd_number) < 0:\n",
    "    print(\"Not a valid number! \\n\")\n",
    "    user_odd_number  = input(\"Enter a odd number between 1 and 50: \")\n",
    "\n",
    "user_odd_number = int(user_odd_number)    \n",
    "    \n",
    "for i in range(1, 50+1):\n",
    "   # if user_odd_number > 50 or user_odd_number < 0:\n",
    "    #    break\n",
    "    if i % 2 == 0:\n",
    "        continue\n",
    "    elif i == user_odd_number:\n",
    "        print(f\"Yikes skipping this number: {user_odd_number}\")\n",
    "    else:\n",
    "        print(f'Here is an odd number: {i}') \n",
    "        \n",
    "   \n",
    "            "
   ]
  },
  {
   "cell_type": "code",
   "execution_count": 72,
   "id": "616939d8",
   "metadata": {},
   "outputs": [
    {
     "name": "stdout",
     "output_type": "stream",
     "text": [
      "Please input a even number: 8\n",
      "0\n",
      "1\n",
      "2\n",
      "3\n",
      "4\n",
      "5\n",
      "6\n",
      "7\n"
     ]
    }
   ],
   "source": [
    "user_positive_number = input(\"Please input a even number: \")\n",
    "\n",
    "while user_positive_number.isdigit() != True or int(user_positive_number) < 0:\n",
    "    print(\"This is not a positive number!\")\n",
    "    user_positive_number = input(\"Please input a even number: \")\n",
    "\n",
    "user_positive_number = int(user_positive_number)\n",
    "\n",
    "for i in range(user_positive_number+1):\n",
    "    print(i)"
   ]
  },
  {
   "cell_type": "code",
   "execution_count": 74,
   "id": "0a956275",
   "metadata": {},
   "outputs": [
    {
     "name": "stdout",
     "output_type": "stream",
     "text": [
      "Enter a positive number: 8\n",
      "8\n",
      "7\n",
      "6\n",
      "5\n",
      "4\n",
      "3\n",
      "2\n",
      "1\n"
     ]
    }
   ],
   "source": [
    "user_positive_number2 = input(\"Enter a positive number: \")\n",
    "\n",
    "while user_positive_number2.isdigit() != True or int(user_positive_number2) < 0:\n",
    "    print(\"This is not a positive number!\")\n",
    "    user_positive_number2 = input(\"Please input a even number: \")\n",
    "\n",
    "\n",
    "user_positive_number2 = int(user_positive_number2)\n",
    "\n",
    "i = 1\n",
    "while user_positive_number2  >= i:\n",
    "    print(user_positive_number2)\n",
    "    user_positive_number2 = user_positive_number2 - i"
   ]
  },
  {
   "cell_type": "code",
   "execution_count": 75,
   "id": "444521e6",
   "metadata": {},
   "outputs": [
    {
     "name": "stdout",
     "output_type": "stream",
     "text": [
      "1\n",
      "2\n",
      "Fizz 3\n",
      "4\n",
      "Buzz 5\n",
      "Fizz 6\n",
      "7\n",
      "8\n",
      "Fizz 9\n",
      "Buzz 10\n",
      "11\n",
      "Fizz 12\n",
      "13\n",
      "14\n",
      "Fizz Buzz 15\n",
      "16\n",
      "17\n",
      "Fizz 18\n",
      "19\n",
      "Buzz 20\n",
      "Fizz 21\n",
      "22\n",
      "23\n",
      "Fizz 24\n",
      "Buzz 25\n",
      "26\n",
      "Fizz 27\n",
      "28\n",
      "29\n",
      "Fizz Buzz 30\n",
      "31\n",
      "32\n",
      "Fizz 33\n",
      "34\n",
      "Buzz 35\n",
      "Fizz 36\n",
      "37\n",
      "38\n",
      "Fizz 39\n",
      "Buzz 40\n",
      "41\n",
      "Fizz 42\n",
      "43\n",
      "44\n",
      "Fizz Buzz 45\n",
      "46\n",
      "47\n",
      "Fizz 48\n",
      "49\n",
      "Buzz 50\n",
      "Fizz 51\n",
      "52\n",
      "53\n",
      "Fizz 54\n",
      "Buzz 55\n",
      "56\n",
      "Fizz 57\n",
      "58\n",
      "59\n",
      "Fizz Buzz 60\n",
      "61\n",
      "62\n",
      "Fizz 63\n",
      "64\n",
      "Buzz 65\n",
      "Fizz 66\n",
      "67\n",
      "68\n",
      "Fizz 69\n",
      "Buzz 70\n",
      "71\n",
      "Fizz 72\n",
      "73\n",
      "74\n",
      "Fizz Buzz 75\n",
      "76\n",
      "77\n",
      "Fizz 78\n",
      "79\n",
      "Buzz 80\n",
      "Fizz 81\n",
      "82\n",
      "83\n",
      "Fizz 84\n",
      "Buzz 85\n",
      "86\n",
      "Fizz 87\n",
      "88\n",
      "89\n",
      "Fizz Buzz 90\n",
      "91\n",
      "92\n",
      "Fizz 93\n",
      "94\n",
      "Buzz 95\n",
      "Fizz 96\n",
      "97\n",
      "98\n",
      "Fizz 99\n"
     ]
    }
   ],
   "source": [
    "for i in range(1,100):\n",
    "    if i % 5 == 0 and i % 3 == 0:\n",
    "        print(f\"Fizz Buzz {i}\")\n",
    "    elif i % 5 == 0:\n",
    "        print(f\"Buzz {i}\")\n",
    "    elif i % 3 == 0:\n",
    "        print(f\"Fizz {i}\")\n",
    "    else:\n",
    "        print(i)"
   ]
  },
  {
   "cell_type": "code",
   "execution_count": 86,
   "id": "6570f4d0",
   "metadata": {},
   "outputs": [
    {
     "name": "stdout",
     "output_type": "stream",
     "text": [
      "What number would you like ot go up to? 5\n",
      "Here is your table! \n",
      "\n",
      "number  | squared |  cubed\n",
      " -----     ------    -----\n",
      "1       |1        |1 \n",
      "2       |4        |8 \n",
      "3       |9        |27 \n",
      "4       |16        |64 \n",
      "5       |25        |125 \n",
      "Want to try again? y/n: y\n",
      "What number would you like ot go up to? 6\n",
      "Here is your table! \n",
      "\n",
      "number  | squared |  cubed\n",
      " -----     ------    -----\n",
      "1       |1        |1 \n",
      "2       |4        |8 \n",
      "3       |9        |27 \n",
      "4       |16        |64 \n",
      "5       |25        |125 \n",
      "6       |36        |216 \n",
      "Want to try again? y/n: n\n"
     ]
    }
   ],
   "source": [
    "table_power_input = input(\"What number would you like ot go up to? \")\n",
    "\n",
    "\n",
    "table_power_input = int(table_power_input)\n",
    "consent = \"y\"\n",
    "\n",
    "while consent != \"n\":\n",
    "\n",
    "    print(\"\\nHere is your table! \\n\")\n",
    "    print(\"number  | squared |  cubed\")\n",
    "    print(\" -----     ------    -----\")\n",
    "\n",
    "    for i in range(1, table_power_input+1):\n",
    "        squared = i * i\n",
    "        cubed = i*i*i\n",
    "        print(f\"{i}       |{squared}        |{cubed} \")\n",
    "\n",
    "    consent = input(\"Want to try again? y/n: \")\n",
    "    \n",
    "    if consent == \"y\":\n",
    "        table_power_input = input(\"What number would you like ot go up to? \")\n",
    "        table_power_input = int(table_power_input)"
   ]
  },
  {
   "cell_type": "code",
   "execution_count": 88,
   "id": "87b10816",
   "metadata": {},
   "outputs": [
    {
     "name": "stdout",
     "output_type": "stream",
     "text": [
      "Enter your grade: 88\n",
      "A\n",
      "Would you like to continue ? y/n y\n",
      "Enter your grade: 80\n",
      "B\n",
      "Would you like to continue ? y/n y\n",
      "Enter your grade: 70\n",
      "C\n",
      "Would you like to continue ? y/n y\n",
      "Enter your grade: 60\n",
      "D\n",
      "Would you like to continue ? y/n y\n",
      "Enter your grade: 1\n",
      "F\n",
      "Would you like to continue ? y/n n\n"
     ]
    }
   ],
   "source": [
    "grades_inputed_to_letter = input(\"Enter your grade: \")\n",
    "grades_inputed_to_letter = int(grades_inputed_to_letter)\n",
    "\n",
    "consent = \"y\"\n",
    "\n",
    "while grades_inputed_to_letter > 100 or grades_inputed_to_letter < 0 or consent != \"n\":\n",
    "    if grades_inputed_to_letter > 87:\n",
    "        print(\"A\")\n",
    "    elif grades_inputed_to_letter > 79:\n",
    "        print(\"B\")\n",
    "    elif grades_inputed_to_letter > 66:\n",
    "        print(\"C\")\n",
    "    elif grades_inputed_to_letter > 59:\n",
    "        print(\"D\")\n",
    "    else:\n",
    "        print(\"F\")\n",
    "\n",
    "    consent = input(\"Would you like to continue ? y/n \")\n",
    "\n",
    "    if consent == \"y\":\n",
    "        grades_inputed_to_letter = input(\"Enter your grade: \")\n",
    "        grades_inputed_to_letter = int(grades_inputed_to_letter)"
   ]
  },
  {
   "cell_type": "code",
   "execution_count": 96,
   "id": "805df329",
   "metadata": {},
   "outputs": [
    {
     "name": "stdout",
     "output_type": "stream",
     "text": [
      "Enter a genre: Fantasy\n",
      "{'title': 'Gunslinger', 'author': 'Stephen King', 'genre': 'Fantasy'}\n",
      "{'title': 'Eragon', 'author': 'cant remember', 'genre': 'Fantasy'}\n"
     ]
    }
   ],
   "source": [
    "books = [{'title': 'Gunslinger', 'author': 'Stephen King', 'genre': 'Fantasy'},\n",
    "           {'title': 'Eragon', 'author': 'cant remember', 'genre': 'Fantasy'},\n",
    "           {'title': 'Harry Potter', 'author': 'That one crazy lady','genre': 'Magic'},\n",
    "           {'title': 'Cthulu', 'author': 'HP', 'genre': 'Spooky'},\n",
    "           {'title': 'Olympians', 'author': 'cool guy', 'genre': 'Gods'}]\n",
    "\n",
    "input_genre = input(\"Enter a genre: \")\n",
    "\n",
    "for i in books:\n",
    "    if input_genre == i['genre']:\n",
    "        print(i)\n"
   ]
  },
  {
   "cell_type": "code",
   "execution_count": null,
   "id": "1d683a0e",
   "metadata": {},
   "outputs": [],
   "source": []
  }
 ],
 "metadata": {
  "kernelspec": {
   "display_name": "Python 3",
   "language": "python",
   "name": "python3"
  },
  "language_info": {
   "codemirror_mode": {
    "name": "ipython",
    "version": 3
   },
   "file_extension": ".py",
   "mimetype": "text/x-python",
   "name": "python",
   "nbconvert_exporter": "python",
   "pygments_lexer": "ipython3",
   "version": "3.8.8"
  }
 },
 "nbformat": 4,
 "nbformat_minor": 5
}
