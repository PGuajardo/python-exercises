{
 "cells": [
  {
   "cell_type": "markdown",
   "id": "8ea0ade8",
   "metadata": {},
   "source": [
    "# Control Structures Exercises"
   ]
  },
  {
   "cell_type": "markdown",
   "id": "c900e11c",
   "metadata": {},
   "source": [
    "## 1 a"
   ]
  },
  {
   "cell_type": "code",
   "execution_count": 1,
   "id": "6dc5316a",
   "metadata": {},
   "outputs": [
    {
     "name": "stdout",
     "output_type": "stream",
     "text": [
      "What is the day of the week?\n",
      "\n",
      "Enter day of the week: Friday\n",
      "Thats Not the day of the week try again!\n",
      "\n",
      "Enter here: Monday\n",
      "Thats right! It's Freaking monday!\n"
     ]
    }
   ],
   "source": [
    "print(\"What is the day of the week?\\n\")\n",
    "\n",
    "user_day = input(\"Enter day of the week: \")\n",
    "\n",
    "day_of_the_week = \"Monday\"\n",
    "\n",
    "while day_of_the_week != user_day:\n",
    "    print(\"Thats Not the day of the week try again!\\n\")\n",
    "    user_day = input(\"Enter here: \")\n",
    "\n",
    "print(\"Thats right! It's Freaking monday!\")"
   ]
  },
  {
   "cell_type": "markdown",
   "id": "667339ea",
   "metadata": {},
   "source": [
    "### 1 b."
   ]
  },
  {
   "cell_type": "code",
   "execution_count": 2,
   "id": "a1659288",
   "metadata": {},
   "outputs": [
    {
     "name": "stdout",
     "output_type": "stream",
     "text": [
      "What is the day of the week?\n",
      "\n",
      "Enter day of the week: Sunday\n",
      "This is a weekend! \n",
      "\n"
     ]
    }
   ],
   "source": [
    "print(\"What is the day of the week?\\n\")\n",
    "\n",
    "user_day = input(\"Enter day of the week: \")\n",
    "\n",
    "if user_day == \"Saturday\" or user_day == \"Sunday\":\n",
    "    print(\"This is a weekend! \\n\")\n",
    "else:\n",
    "    print(\"This is a weekday!\")"
   ]
  },
  {
   "cell_type": "markdown",
   "id": "d8e88811",
   "metadata": {},
   "source": [
    "### 1 c."
   ]
  },
  {
   "cell_type": "code",
   "execution_count": 3,
   "id": "976cdf88",
   "metadata": {},
   "outputs": [
    {
     "name": "stdout",
     "output_type": "stream",
     "text": [
      "Enter your hours for the week: 50\n",
      "1650.0\n"
     ]
    }
   ],
   "source": [
    "# - hours per week\n",
    "hours_weekly = 40\n",
    "#  - the hourly rate\n",
    "hourly_rate = 30\n",
    "#  - how much the week's paycheck will be\n",
    "weeks_pay = hours_weekly * hourly_rate\n",
    "# write the python code that calculates the weekly paycheck. You get paid time and a half if you work more than 40 hours\n",
    "clocked_in_hours = input(\"Enter your hours for the week: \")\n",
    "\n",
    "clocked_in_hours = int(clocked_in_hours)\n",
    "\n",
    "if clocked_in_hours > 40:\n",
    "    r = clocked_in_hours % 40\n",
    "    overtime = (r * 30) * 1.5\n",
    "    print(weeks_pay + overtime)\n",
    "else:\n",
    "    print(clocked_in_hours * hourly_rate)"
   ]
  },
  {
   "cell_type": "markdown",
   "id": "e00ed158",
   "metadata": {},
   "source": [
    "## 2 : 1a"
   ]
  },
  {
   "cell_type": "code",
   "execution_count": 4,
   "id": "668bea33",
   "metadata": {},
   "outputs": [
    {
     "name": "stdout",
     "output_type": "stream",
     "text": [
      "5\n",
      "6\n",
      "7\n",
      "8\n",
      "9\n",
      "10\n",
      "11\n",
      "12\n",
      "13\n",
      "14\n",
      "15\n"
     ]
    }
   ],
   "source": [
    "i = 5\n",
    "\n",
    "while i <= 15:\n",
    "    print(i)\n",
    "    i = i + 1"
   ]
  },
  {
   "cell_type": "markdown",
   "id": "0e123c95",
   "metadata": {},
   "source": [
    "### 2 : 2a"
   ]
  },
  {
   "cell_type": "code",
   "execution_count": 5,
   "id": "e08de42f",
   "metadata": {},
   "outputs": [
    {
     "name": "stdout",
     "output_type": "stream",
     "text": [
      "2\n",
      "4\n",
      "6\n",
      "8\n",
      "10\n",
      "12\n",
      "14\n",
      "16\n",
      "18\n",
      "20\n",
      "22\n",
      "24\n",
      "26\n",
      "28\n",
      "30\n",
      "32\n",
      "34\n",
      "36\n",
      "38\n",
      "40\n",
      "42\n",
      "44\n",
      "46\n",
      "48\n",
      "50\n",
      "52\n",
      "54\n",
      "56\n",
      "58\n",
      "60\n",
      "62\n",
      "64\n",
      "66\n",
      "68\n",
      "70\n",
      "72\n",
      "74\n",
      "76\n",
      "78\n",
      "80\n",
      "82\n",
      "84\n",
      "86\n",
      "88\n",
      "90\n",
      "92\n",
      "94\n",
      "96\n",
      "98\n",
      "100\n"
     ]
    }
   ],
   "source": [
    "i = 0\n",
    "while i in range(100):\n",
    "     i = i + 2\n",
    "     print(i)"
   ]
  },
  {
   "cell_type": "markdown",
   "id": "637654e4",
   "metadata": {},
   "source": [
    "### 2:  3a"
   ]
  },
  {
   "cell_type": "code",
   "execution_count": 6,
   "id": "533558af",
   "metadata": {},
   "outputs": [
    {
     "name": "stdout",
     "output_type": "stream",
     "text": [
      "100\n",
      "95\n",
      "90\n",
      "85\n",
      "80\n",
      "75\n",
      "70\n",
      "65\n",
      "60\n",
      "55\n",
      "50\n",
      "45\n",
      "40\n",
      "35\n",
      "30\n",
      "25\n",
      "20\n",
      "15\n",
      "10\n",
      "5\n",
      "0\n",
      "-5\n",
      "-10\n"
     ]
    }
   ],
   "source": [
    "i = 100\n",
    "while i > -15:\n",
    "    print(i)\n",
    "    i = i - 5"
   ]
  },
  {
   "cell_type": "markdown",
   "id": "a721faa9",
   "metadata": {},
   "source": [
    "### 2: 4a"
   ]
  },
  {
   "cell_type": "code",
   "execution_count": 7,
   "id": "4fd80f94",
   "metadata": {},
   "outputs": [
    {
     "name": "stdout",
     "output_type": "stream",
     "text": [
      "2\n",
      "4\n",
      "16\n",
      "256\n",
      "65536\n"
     ]
    }
   ],
   "source": [
    "i = 2\n",
    "while i < 1000000:\n",
    "    print(i)\n",
    "    i = i*i"
   ]
  },
  {
   "cell_type": "markdown",
   "id": "d89cd5d3",
   "metadata": {},
   "source": [
    "### 2: 5a"
   ]
  },
  {
   "cell_type": "code",
   "execution_count": 8,
   "id": "e2b35d6d",
   "metadata": {},
   "outputs": [
    {
     "name": "stdout",
     "output_type": "stream",
     "text": [
      "100\n",
      "95\n",
      "90\n",
      "85\n",
      "80\n",
      "75\n",
      "70\n",
      "65\n",
      "60\n",
      "55\n",
      "50\n",
      "45\n",
      "40\n",
      "35\n",
      "30\n",
      "25\n",
      "20\n",
      "15\n",
      "10\n",
      "5\n"
     ]
    }
   ],
   "source": [
    "i = 100\n",
    "\n",
    "while i > 0:\n",
    "    print(i)\n",
    "    i = i-5"
   ]
  },
  {
   "cell_type": "markdown",
   "id": "1d8ec28e",
   "metadata": {},
   "source": [
    "### 2 :  1b"
   ]
  },
  {
   "cell_type": "code",
   "execution_count": 9,
   "id": "08b6c012",
   "metadata": {},
   "outputs": [
    {
     "name": "stdout",
     "output_type": "stream",
     "text": [
      "Enter your number: 7\n",
      "7 x 1 = 7\n",
      "7 x 2 = 14\n",
      "7 x 3 = 21\n",
      "7 x 4 = 28\n",
      "7 x 5 = 35\n",
      "7 x 6 = 42\n",
      "7 x 7 = 49\n"
     ]
    }
   ],
   "source": [
    "user_number = input(\"Enter your number: \")\n",
    "user_number = int(user_number)\n",
    "\n",
    "for i in range(1, user_number+1):\n",
    "    multiply = user_number * i\n",
    "    table = \"{} x {} = {}\"\n",
    "    print(table.format(user_number, i, multiply))"
   ]
  },
  {
   "cell_type": "markdown",
   "id": "716449cc",
   "metadata": {},
   "source": [
    "### 2: 2b"
   ]
  },
  {
   "cell_type": "code",
   "execution_count": 10,
   "id": "f233e4cf",
   "metadata": {},
   "outputs": [
    {
     "name": "stdout",
     "output_type": "stream",
     "text": [
      "\n",
      "1\n",
      "22\n",
      "333\n",
      "4444\n",
      "55555\n",
      "666666\n",
      "7777777\n",
      "88888888\n",
      "999999999\n"
     ]
    }
   ],
   "source": [
    "row = 9\n",
    "\n",
    "for i in range(row+1):\n",
    "    for j in range(i):\n",
    "        print(i, end='')\n",
    "    print(\"\")"
   ]
  },
  {
   "cell_type": "markdown",
   "id": "f11d3947",
   "metadata": {},
   "source": [
    "### 2: 1c"
   ]
  },
  {
   "cell_type": "code",
   "execution_count": 5,
   "id": "78a88af2",
   "metadata": {},
   "outputs": [
    {
     "name": "stdout",
     "output_type": "stream",
     "text": [
      "Enter a odd number between 1 and 50: f\n",
      "Not a valid number! \n",
      "\n",
      "Enter a odd number between 1 and 50: e\n",
      "Not a valid number! \n",
      "\n",
      "Enter a odd number between 1 and 50: 27\n",
      "Here is an odd number: 1\n",
      "Here is an odd number: 3\n",
      "Here is an odd number: 5\n",
      "Here is an odd number: 7\n",
      "Here is an odd number: 9\n",
      "Here is an odd number: 11\n",
      "Here is an odd number: 13\n",
      "Here is an odd number: 15\n",
      "Here is an odd number: 17\n",
      "Here is an odd number: 19\n",
      "Here is an odd number: 21\n",
      "Here is an odd number: 23\n",
      "Here is an odd number: 25\n",
      "Yikes skipping this number: 27\n",
      "Here is an odd number: 29\n",
      "Here is an odd number: 31\n",
      "Here is an odd number: 33\n",
      "Here is an odd number: 35\n",
      "Here is an odd number: 37\n",
      "Here is an odd number: 39\n",
      "Here is an odd number: 41\n",
      "Here is an odd number: 43\n",
      "Here is an odd number: 45\n",
      "Here is an odd number: 47\n",
      "Here is an odd number: 49\n"
     ]
    }
   ],
   "source": [
    "user_odd_number  = input(\"Enter a odd number between 1 and 50: \")\n",
    "\n",
    "while user_odd_number.isdigit() != True or int(user_odd_number) % 2 == 0 or int(user_odd_number) > 50 or int(user_odd_number) < 0:\n",
    "    print(\"Not a valid number! \\n\")\n",
    "    user_odd_number  = input(\"Enter a odd number between 1 and 50: \")\n",
    "\n",
    "user_odd_number = int(user_odd_number)    \n",
    "    \n",
    "for i in range(1, 50+1):\n",
    "   # if user_odd_number > 50 or user_odd_number < 0:\n",
    "    #    break\n",
    "    if i % 2 == 0:\n",
    "        continue\n",
    "    elif i == user_odd_number:\n",
    "        print(f\"Yikes skipping this number: {user_odd_number}\")\n",
    "    else:\n",
    "        print(f'Here is an odd number: {i}') \n",
    "        \n",
    "   \n",
    "            "
   ]
  },
  {
   "cell_type": "markdown",
   "id": "7849428e",
   "metadata": {},
   "source": [
    "### 2: 1d"
   ]
  },
  {
   "cell_type": "code",
   "execution_count": 12,
   "id": "616939d8",
   "metadata": {},
   "outputs": [
    {
     "name": "stdout",
     "output_type": "stream",
     "text": [
      "Please input a positive number: 8\n",
      "0\n",
      "1\n",
      "2\n",
      "3\n",
      "4\n",
      "5\n",
      "6\n",
      "7\n",
      "8\n"
     ]
    }
   ],
   "source": [
    "user_positive_number = input(\"Please input a positive number: \")\n",
    "\n",
    "while user_positive_number.isdigit() != True or int(user_positive_number) =< 0:\n",
    "    print(\"This is not a positive number!\")\n",
    "    user_positive_number = input(\"Please input a positive number: \")\n",
    "\n",
    "user_positive_number = int(user_positive_number)\n",
    "\n",
    "for i in range(user_positive_number+1):\n",
    "    print(i)"
   ]
  },
  {
   "cell_type": "markdown",
   "id": "c6dd235a",
   "metadata": {},
   "source": [
    "### 2: 1e"
   ]
  },
  {
   "cell_type": "code",
   "execution_count": 13,
   "id": "0a956275",
   "metadata": {},
   "outputs": [
    {
     "name": "stdout",
     "output_type": "stream",
     "text": [
      "Enter a positive number: 6\n",
      "6\n",
      "5\n",
      "4\n",
      "3\n",
      "2\n",
      "1\n"
     ]
    }
   ],
   "source": [
    "user_positive_number2 = input(\"Enter a positive number: \")\n",
    "\n",
    "while user_positive_number2.isdigit() != True or int(user_positive_number2) =< 0:\n",
    "    print(\"This is not a positive number!\")\n",
    "    user_positive_number2 = input(\"Please input a even number: \")\n",
    "\n",
    "\n",
    "user_positive_number2 = int(user_positive_number2)\n",
    "\n",
    "i = 1\n",
    "while user_positive_number2  >= i:\n",
    "    print(user_positive_number2)\n",
    "    user_positive_number2 = user_positive_number2 - i"
   ]
  },
  {
   "cell_type": "markdown",
   "id": "cae40311",
   "metadata": {},
   "source": [
    "## 3"
   ]
  },
  {
   "cell_type": "code",
   "execution_count": 4,
   "id": "444521e6",
   "metadata": {},
   "outputs": [
    {
     "name": "stdout",
     "output_type": "stream",
     "text": [
      "1\n",
      "2\n",
      "Fizz\n",
      "4\n",
      "Buzz\n",
      "Fizz\n",
      "7\n",
      "8\n",
      "Fizz\n",
      "Buzz\n",
      "11\n",
      "Fizz\n",
      "13\n",
      "14\n",
      "Fizz Buzz\n",
      "16\n",
      "17\n",
      "Fizz\n",
      "19\n",
      "Buzz\n",
      "Fizz\n",
      "22\n",
      "23\n",
      "Fizz\n",
      "Buzz\n",
      "26\n",
      "Fizz\n",
      "28\n",
      "29\n",
      "Fizz Buzz\n",
      "31\n",
      "32\n",
      "Fizz\n",
      "34\n",
      "Buzz\n",
      "Fizz\n",
      "37\n",
      "38\n",
      "Fizz\n",
      "Buzz\n",
      "41\n",
      "Fizz\n",
      "43\n",
      "44\n",
      "Fizz Buzz\n",
      "46\n",
      "47\n",
      "Fizz\n",
      "49\n",
      "Buzz\n",
      "Fizz\n",
      "52\n",
      "53\n",
      "Fizz\n",
      "Buzz\n",
      "56\n",
      "Fizz\n",
      "58\n",
      "59\n",
      "Fizz Buzz\n",
      "61\n",
      "62\n",
      "Fizz\n",
      "64\n",
      "Buzz\n",
      "Fizz\n",
      "67\n",
      "68\n",
      "Fizz\n",
      "Buzz\n",
      "71\n",
      "Fizz\n",
      "73\n",
      "74\n",
      "Fizz Buzz\n",
      "76\n",
      "77\n",
      "Fizz\n",
      "79\n",
      "Buzz\n",
      "Fizz\n",
      "82\n",
      "83\n",
      "Fizz\n",
      "Buzz\n",
      "86\n",
      "Fizz\n",
      "88\n",
      "89\n",
      "Fizz Buzz\n",
      "91\n",
      "92\n",
      "Fizz\n",
      "94\n",
      "Buzz\n",
      "Fizz\n",
      "97\n",
      "98\n",
      "Fizz\n",
      "Buzz\n"
     ]
    }
   ],
   "source": [
    "for i in range(1,101):\n",
    "    if i % 5 == 0 and i % 3 == 0:\n",
    "        print(\"Fizz Buzz\")\n",
    "    elif i % 5 == 0:\n",
    "        print(\"Buzz\")\n",
    "    elif i % 3 == 0:\n",
    "        print(\"Fizz\")\n",
    "    else:\n",
    "        print(i)"
   ]
  },
  {
   "cell_type": "markdown",
   "id": "a03a3c09",
   "metadata": {},
   "source": [
    "## 4"
   ]
  },
  {
   "cell_type": "code",
   "execution_count": 5,
   "id": "6570f4d0",
   "metadata": {},
   "outputs": [
    {
     "name": "stdout",
     "output_type": "stream",
     "text": [
      "What number would you like to go up to? 5\n",
      "\n",
      "Here is your table! \n",
      "\n",
      "number  | squared |  cubed\n",
      " -----     ------    -----\n",
      "1       |1        |1  \n",
      "2       |4        |8  \n",
      "3       |9        |27 \n",
      "4       |16       |64 \n",
      "5       |25       |125\n",
      "Want to try again? y/n: f\n",
      "Invalid consent number!\n",
      "\n",
      "Would you like to continue ? y/n y\n",
      "\n",
      "What number would you like to go up to? r\n",
      "Not a valid grade number!\n",
      "\n",
      "Enter your number: 3\n",
      "\n",
      "Here is your table! \n",
      "\n",
      "number  | squared |  cubed\n",
      " -----     ------    -----\n",
      "1       |1        |1  \n",
      "2       |4        |8  \n",
      "3       |9        |27 \n",
      "Want to try again? y/n: n\n"
     ]
    }
   ],
   "source": [
    "table_power_input = input(\"What number would you like to go up to? \")\n",
    "\n",
    "while table_power_input.isdigit() != True:\n",
    "            print(\"Not a valid grade number!\\n\")\n",
    "            table_power_input = input(\"Enter your number: \")\n",
    "\n",
    "table_power_input = int(table_power_input)\n",
    "consent = \"y\"\n",
    "\n",
    "while consent != \"n\":\n",
    "\n",
    "    print(\"\\nHere is your table! \\n\")\n",
    "    print(\"number  | squared |  cubed\")\n",
    "    print(\" -----     ------    -----\")\n",
    "\n",
    "    for i in range(1, table_power_input+1):\n",
    "        print(\"{:<3d}     |{:<3d}      |{:<3d}\".format(i,i**2,i**3))\n",
    "\n",
    "    consent = input(\"Want to try again? y/n: \")\n",
    "\n",
    "    while consent != 'n' and consent !='y':\n",
    "        print(\"Invalid consent number!\\n\")\n",
    "        consent = input(\"Would you like to continue ? y/n \")\n",
    "    \n",
    "    if consent == \"y\":\n",
    "        table_power_input = input(\"\\nWhat number would you like to go up to? \")\n",
    "\n",
    "        while table_power_input.isdigit() != True:\n",
    "            print(\"Not a valid grade number!\\n\")\n",
    "            table_power_input = input(\"Enter your number: \")\n",
    "\n",
    "        table_power_input = int(table_power_input)"
   ]
  },
  {
   "cell_type": "markdown",
   "id": "bebbcdda",
   "metadata": {},
   "source": [
    "## 5"
   ]
  },
  {
   "cell_type": "code",
   "execution_count": 1,
   "id": "87b10816",
   "metadata": {},
   "outputs": [
    {
     "name": "stdout",
     "output_type": "stream",
     "text": [
      "Enter your grade: 90\n",
      "A-\n",
      "Would you like to continue ? y/n y\n",
      "Enter your grade: 135\n",
      "Not a valid grade number!\n",
      "\n",
      "Enter your grade: 77\n",
      "C+\n",
      "Would you like to continue ? y/n ffff\n",
      "Invalid consent letter!\n",
      "\n",
      "Would you like to continue ? y/n n\n"
     ]
    }
   ],
   "source": [
    "grades_inputed_to_letter = input(\"Enter your grade: \")\n",
    "\n",
    "while grades_inputed_to_letter.isdigit() != True or int(grades_inputed_to_letter) > 100 or int(grades_inputed_to_letter) < 0:\n",
    "    print(\"Not a valid grade number!\\n\")\n",
    "    grades_inputed_to_letter = input(\"Enter your grade: \")\n",
    "    \n",
    "grades_inputed_to_letter = int(grades_inputed_to_letter)\n",
    "\n",
    "\n",
    "consent = \"y\"\n",
    "    \n",
    "while  consent != \"n\":\n",
    "    if grades_inputed_to_letter > 97:\n",
    "        print(\"A+\")\n",
    "    elif grades_inputed_to_letter > 93:\n",
    "        print(\"A\")\n",
    "    elif grades_inputed_to_letter > 87:\n",
    "        print(\"A-\")\n",
    "    elif grades_inputed_to_letter > 85:\n",
    "        print(\"B+\")\n",
    "    elif grades_inputed_to_letter > 83:\n",
    "        print(\"B\")\n",
    "    elif grades_inputed_to_letter > 79:\n",
    "        print(\"B-\")\n",
    "    elif grades_inputed_to_letter > 75:\n",
    "        print(\"C+\")\n",
    "    elif grades_inputed_to_letter > 70:\n",
    "        print(\"C\")\n",
    "    elif grades_inputed_to_letter > 66:\n",
    "        print(\"C-\")\n",
    "    elif grades_inputed_to_letter > 63:\n",
    "        print(\"D+\")\n",
    "    elif grades_inputed_to_letter > 60:\n",
    "        print(\"D\")\n",
    "    elif grades_inputed_to_letter > 59:\n",
    "        print(\"D-\")\n",
    "    else:\n",
    "        print(\"F\")\n",
    "    \n",
    "\n",
    "    consent = input(\"Would you like to continue ? y/n \")\n",
    "    \n",
    "    while consent != 'n' and consent !='y':\n",
    "        print(\"Invalid consent letter!\\n\")\n",
    "        consent = input(\"Would you like to continue ? y/n \")\n",
    "\n",
    "    if consent == \"y\":\n",
    "        grades_inputed_to_letter = input(\"Enter your grade: \")\n",
    "        \n",
    "        while grades_inputed_to_letter.isdigit() != True or int(grades_inputed_to_letter) > 100 or int(grades_inputed_to_letter) < 0:\n",
    "            print(\"Not a valid grade number!\\n\")\n",
    "            grades_inputed_to_letter = input(\"Enter your grade: \")\n",
    "            \n",
    "        grades_inputed_to_letter = int(grades_inputed_to_letter)"
   ]
  },
  {
   "cell_type": "markdown",
   "id": "e0853a71",
   "metadata": {},
   "source": [
    "## 6"
   ]
  },
  {
   "cell_type": "code",
   "execution_count": 19,
   "id": "805df329",
   "metadata": {},
   "outputs": [
    {
     "name": "stdout",
     "output_type": "stream",
     "text": [
      "Enter a genre: Fantasy\n",
      "Gunslinger\n",
      "Eragon\n"
     ]
    }
   ],
   "source": [
    "books = [{'title': 'Gunslinger', 'author': 'Stephen King', 'genre': 'Fantasy'},\n",
    "           {'title': 'Eragon', 'author': 'cant remember', 'genre': 'Fantasy'},\n",
    "           {'title': 'Harry Potter', 'author': 'That one crazy lady','genre': 'Magic'},\n",
    "           {'title': 'Cthulu', 'author': 'HP', 'genre': 'Spooky'},\n",
    "           {'title': 'Olympians', 'author': 'cool guy', 'genre': 'Gods'}]\n",
    "\n",
    "input_genre = input(\"Enter a genre: \")\n",
    "\n",
    "for i in books:\n",
    "    if input_genre == i['genre']:\n",
    "        print(i['title'])\n"
   ]
  },
  {
   "cell_type": "code",
   "execution_count": null,
   "id": "1d683a0e",
   "metadata": {},
   "outputs": [],
   "source": []
  }
 ],
 "metadata": {
  "kernelspec": {
   "display_name": "Python 3",
   "language": "python",
   "name": "python3"
  },
  "language_info": {
   "codemirror_mode": {
    "name": "ipython",
    "version": 3
   },
   "file_extension": ".py",
   "mimetype": "text/x-python",
   "name": "python",
   "nbconvert_exporter": "python",
   "pygments_lexer": "ipython3",
   "version": "3.8.8"
  }
 },
 "nbformat": 4,
 "nbformat_minor": 5
}
