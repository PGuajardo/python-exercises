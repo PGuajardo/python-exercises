{
 "cells": [
  {
   "cell_type": "markdown",
   "id": "a9fcc89d",
   "metadata": {},
   "source": [
    "# 1) Import and test 3 of the functions from your functions exercise file. Import each function in a different way:"
   ]
  },
  {
   "cell_type": "markdown",
   "id": "b7a2c641",
   "metadata": {},
   "source": [
    "a.) Run an interactive python session and import the module. Call the is_vowel function using the . syntax.\n",
    "\n",
    "b.) Create a file named import_exericses.py. Within this file, use from to import the calculate_tip function directly. Call this function with values you choose and print the result.\n",
    "\n",
    "c.)Create a jupyter notebook named import_exercises.ipynb. Use from to import the get_letter_grade function and give it an alias. Test this function in your notebook.\n",
    "\n",
    "\n",
    "### Make sure your code that tests the function imports is run from the same directory that your functions exercise file is in."
   ]
  },
  {
   "cell_type": "code",
   "execution_count": 1,
   "id": "74d4abf7",
   "metadata": {},
   "outputs": [
    {
     "name": "stdout",
     "output_type": "stream",
     "text": [
      "True\n"
     ]
    }
   ],
   "source": [
    "import function_exercises as fe\n",
    "print(fe.is_vowel(\"o\"))"
   ]
  },
  {
   "cell_type": "code",
   "execution_count": 2,
   "id": "4f39322a",
   "metadata": {},
   "outputs": [
    {
     "name": "stdout",
     "output_type": "stream",
     "text": [
      "8.0\n"
     ]
    }
   ],
   "source": [
    "from function_exercises import calculate_tip as ct\n",
    "\n",
    "print(ct(.40,20))"
   ]
  },
  {
   "cell_type": "code",
   "execution_count": 3,
   "id": "0c110982",
   "metadata": {},
   "outputs": [
    {
     "name": "stdout",
     "output_type": "stream",
     "text": [
      "A\n"
     ]
    }
   ],
   "source": [
    "from function_exercises import get_letter_grade as glg\n",
    "\n",
    "glg(99)"
   ]
  },
  {
   "cell_type": "markdown",
   "id": "351081af",
   "metadata": {},
   "source": [
    "# 2) Read about and use the itertools module from the python standard library to help you solve the following problems:"
   ]
  },
  {
   "cell_type": "markdown",
   "id": "f3f94af8",
   "metadata": {},
   "source": [
    " ### a) How many different ways can you combine the letters from \"abc\" with the numbers 1, 2, and 3?"
   ]
  },
  {
   "cell_type": "code",
   "execution_count": 14,
   "id": "dd76287e",
   "metadata": {},
   "outputs": [
    {
     "name": "stdout",
     "output_type": "stream",
     "text": [
      "[('a', 1), ('a', 2), ('a', 3), ('b', 1), ('b', 2), ('b', 3), ('c', 1), ('c', 2), ('c', 3)]\n",
      "\n",
      "\n",
      "9\n",
      "\n",
      "\n",
      "('a', '1')\n",
      "('a', '2')\n",
      "('a', '3')\n",
      "('b', '1')\n",
      "('b', '2')\n",
      "('b', '3')\n",
      "('c', '1')\n",
      "('c', '2')\n",
      "('c', '3')\n"
     ]
    }
   ],
   "source": [
    "from itertools import combinations as comb, permutations as permu, product as pro\n",
    "#How many different ways can you combine the letters from \"abc\" with the numbers 1, 2, and 3?\n",
    "# Must be put in a list, to call as interger set \"123\" = [1,2,3]\n",
    "print(list(pro(\"abc\", [1,2,3])))\n",
    "\n",
    "\n",
    "print(\"\\n\")\n",
    "\n",
    "\n",
    "print(len(list(pro(\"abc\", \"123\"))))\n",
    "print(\"\\n\")\n",
    "\n",
    "# In the for loop we can print it line by line the combinations of the \"abc\" and \"123\"\n",
    "for i in pro(\"abc\", \"123\"):\n",
    "    print(i)\n"
   ]
  },
  {
   "cell_type": "markdown",
   "id": "55ea468c",
   "metadata": {},
   "source": [
    "### b) How many different combinations are there of 2 letters from \"abcd\"?"
   ]
  },
  {
   "cell_type": "code",
   "execution_count": 15,
   "id": "071930eb",
   "metadata": {},
   "outputs": [
    {
     "name": "stdout",
     "output_type": "stream",
     "text": [
      "[('a', 'b'), ('a', 'c'), ('a', 'd'), ('b', 'c'), ('b', 'd'), ('c', 'd')]\n",
      "\n",
      "\n",
      "There are this many combinations:  6\n",
      "\n",
      "\n",
      "('a', 'b')\n",
      "('a', 'c')\n",
      "('a', 'd')\n",
      "('b', 'c')\n",
      "('b', 'd')\n",
      "('c', 'd')\n"
     ]
    }
   ],
   "source": [
    "# How many different combinations are there of 2 letters from \"abcd\"?\n",
    "\n",
    "\n",
    "print(list(comb(\"abcd\", 2)))\n",
    "print(\"\\n\")\n",
    "\n",
    "print(\"There are this many combinations: \",len(list(comb(\"abcd\",2))))\n",
    "print(\"\\n\")\n",
    "\n",
    "for k in comb(\"abcd\", 2):\n",
    "    print(k)"
   ]
  },
  {
   "cell_type": "markdown",
   "id": "b7550170",
   "metadata": {},
   "source": [
    "### c) How many different permutations are there of 2 letters from \"abcd\"?"
   ]
  },
  {
   "cell_type": "code",
   "execution_count": 16,
   "id": "7e4437b9",
   "metadata": {},
   "outputs": [
    {
     "name": "stdout",
     "output_type": "stream",
     "text": [
      "[('a', 'b'), ('a', 'c'), ('a', 'd'), ('b', 'a'), ('b', 'c'), ('b', 'd'), ('c', 'a'), ('c', 'b'), ('c', 'd'), ('d', 'a'), ('d', 'b'), ('d', 'c')]\n",
      "\n",
      "\n",
      "There are this many permutations:  12\n"
     ]
    }
   ],
   "source": [
    "print(list(permu(\"abcd\", 2)))\n",
    "print(\"\\n\")\n",
    "\n",
    "print(\"There are this many permutations: \", len(list(permu(\"abcd\", 2))))"
   ]
  },
  {
   "cell_type": "markdown",
   "id": "417fccbe",
   "metadata": {},
   "source": [
    "# 3) Save this file as profiles.json inside of your exercises directory (right click -> save file as...)."
   ]
  },
  {
   "cell_type": "code",
   "execution_count": 17,
   "id": "ddc25902",
   "metadata": {},
   "outputs": [
    {
     "data": {
      "text/plain": [
       "\"\\nUse the load function from the json module to open this file.\\n\\nimport json\\n\\njson.load(open('profiles.json'))\\nYour code should produce a list of dictionaries. Using this data, write some code that calculates and \\noutputs the following information:\\n\\nTotal number of users\\nNumber of active users\\nNumber of inactive users\\nGrand total of balances for all users\\nAverage balance per user\\nUser with the lowest balance\\nUser with the highest balance\\nMost common favorite fruit\\nLeast most common favorite fruit\\nTotal number of unread messages for all users\\n\""
      ]
     },
     "execution_count": 17,
     "metadata": {},
     "output_type": "execute_result"
    }
   ],
   "source": [
    "\"\"\"\n",
    "Use the load function from the json module to open this file.\n",
    "\n",
    "import json\n",
    "\n",
    "json.load(open('profiles.json'))\n",
    "Your code should produce a list of dictionaries. Using this data, write some code that calculates and \n",
    "outputs the following information:\n",
    "\n",
    "Total number of users\n",
    "Number of active users\n",
    "Number of inactive users\n",
    "Grand total of balances for all users\n",
    "Average balance per user\n",
    "User with the lowest balance\n",
    "User with the highest balance\n",
    "Most common favorite fruit\n",
    "Least most common favorite fruit\n",
    "Total number of unread messages for all users\n",
    "\"\"\""
   ]
  },
  {
   "cell_type": "code",
   "execution_count": 18,
   "id": "a15c50e0",
   "metadata": {},
   "outputs": [
    {
     "name": "stdout",
     "output_type": "stream",
     "text": [
      "Total number of users:  19\n"
     ]
    }
   ],
   "source": [
    "# Total number of users\n",
    "# --------------------\n",
    "import json\n",
    "\n",
    "JL = json.load(open('profiles.json')) \n",
    "\n",
    "\n",
    "amount_users = []\n",
    "\n",
    "for i in JL:\n",
    "    amount_users.append(i[\"_id\"])\n",
    "    \n",
    "print(\"Total number of users: \", len(amount_users))"
   ]
  },
  {
   "cell_type": "code",
   "execution_count": 8,
   "id": "4d188d92",
   "metadata": {},
   "outputs": [
    {
     "name": "stdout",
     "output_type": "stream",
     "text": [
      "Number of active users:  9\n",
      "Number of inactive users:  10\n"
     ]
    }
   ],
   "source": [
    "# Number of active users\n",
    "# --------------------\n",
    "\n",
    "number_active = []\n",
    "\n",
    "for k in JL:\n",
    "    if k[\"isActive\"] == True:\n",
    "        number_active.append(k[\"isActive\"])\n",
    "\n",
    "print(\"Number of active users: \", len(number_active))\n",
    "\n",
    "# Number of inactive users\n",
    "# --------------------\n",
    "\n",
    "number_inactive = []\n",
    "\n",
    "for k in JL:\n",
    "    if k[\"isActive\"] == False:\n",
    "        number_inactive.append(k[\"isActive\"])\n",
    "\n",
    "print(\"Number of inactive users: \", len(number_inactive))"
   ]
  },
  {
   "cell_type": "code",
   "execution_count": 9,
   "id": "dd671870",
   "metadata": {},
   "outputs": [
    {
     "name": "stdout",
     "output_type": "stream",
     "text": [
      "Grand total of balances for all users:  52667.02\n"
     ]
    }
   ],
   "source": [
    "# Grand total of balances for all users\n",
    "# --------------------\n",
    "from function_exercises import normalize_name as nn\n",
    "\n",
    "grand_balance = []\n",
    "\n",
    "\n",
    "for amount in JL:\n",
    "    # Remove dollar sign and comma\n",
    "    amount = nn(amount[\"balance\"])\n",
    "    \n",
    "    # Turn into a float now\n",
    "    turn_into_int = float(amount)\n",
    "    grand_balance.append(turn_into_int)\n",
    "    \n",
    "print(\"Grand total of balances for all users: \", sum(grand_balance))"
   ]
  },
  {
   "cell_type": "code",
   "execution_count": 19,
   "id": "296ea8fa",
   "metadata": {},
   "outputs": [
    {
     "name": "stdout",
     "output_type": "stream",
     "text": [
      "Grand average of balances for all users:  2771.9484210526316\n"
     ]
    }
   ],
   "source": [
    "# Average balance per user\n",
    "# --------------------\n",
    "\n",
    "import statistics\n",
    "print(\"Grand average of balances for all users: \", statistics.mean(grand_balance))"
   ]
  },
  {
   "cell_type": "code",
   "execution_count": 11,
   "id": "8d4152cc",
   "metadata": {},
   "outputs": [
    {
     "name": "stdout",
     "output_type": "stream",
     "text": [
      "1214.1\n",
      "3919.64\n"
     ]
    }
   ],
   "source": [
    "#User with the lowest balance\n",
    "# --------------------\n",
    "\n",
    "print(min(grand_balance))\n",
    "\n",
    "#User with the highest balance\n",
    "# --------------------\n",
    "\n",
    "print(max(grand_balance))"
   ]
  },
  {
   "cell_type": "code",
   "execution_count": 12,
   "id": "46ad7062",
   "metadata": {},
   "outputs": [
    {
     "name": "stdout",
     "output_type": "stream",
     "text": [
      "['strawberry', 'apple', 'banana', 'banana', 'apple', 'apple', 'banana', 'strawberry', 'strawberry', 'banana', 'strawberry', 'strawberry', 'apple', 'strawberry', 'strawberry', 'banana', 'strawberry', 'banana', 'strawberry']\n",
      "\n",
      "The most common fruit is:  ('strawberry', 9)\n",
      "\n",
      "The least most common fruit is:  ('apple', 4)\n"
     ]
    }
   ],
   "source": [
    "#Most common favorite fruit\n",
    "# --------------------\n",
    "\n",
    "list_of_favorites = []\n",
    "\n",
    "for fruit in JL:\n",
    "    \n",
    "    fruit = fruit[\"favoriteFruit\"]\n",
    "    list_of_favorites.append(fruit)\n",
    "    \n",
    "print(list(list_of_favorites))\n",
    "\n",
    "\n",
    "from collections import Counter\n",
    "\n",
    "\n",
    "counting = Counter(list_of_favorites)\n",
    "\n",
    "print(\"\\nThe most common fruit is: \", counting.most_common()[0])\n",
    "\n",
    "# --------------------\n",
    "#Least most common favorite fruit\n",
    "# --------------------\n",
    "\n",
    "print(\"\\nThe least most common fruit is: \", counting.most_common()[-1])"
   ]
  },
  {
   "cell_type": "code",
   "execution_count": 13,
   "id": "d4e6597c",
   "metadata": {},
   "outputs": [
    {
     "name": "stdout",
     "output_type": "stream",
     "text": [
      "This is the list of messages: \n",
      " ['Hello, Hebert Estes! You have 4 unread messages.', 'Hello, Allison Wynn! You have 19 unread messages.', 'Hello, Jacobs Floyd! You have 5 unread messages.', 'Hello, Fay Hammond! You have 10 unread messages.', 'Hello, Chasity Marsh! You have 9 unread messages.', 'Hello, Camacho Cortez! You have 19 unread messages.', 'Hello, Avery Flynn! You have 13 unread messages.', 'Hello, Michael Cash! You have 17 unread messages.', 'Hello, Madeleine Bray! You have 2 unread messages.', 'Hello, Corine French! You have 18 unread messages.', 'Hello, Trudy Cummings! You have 2 unread messages.', 'Hello, Peggy Mayer! You have 13 unread messages.', 'Hello, Chan Hurley! You have 7 unread messages.', 'Hello, Diaz Pena! You have 13 unread messages.', 'Hello, Heath Castaneda! You have 12 unread messages.', 'Hello, Greer Blankenship! You have 7 unread messages.', 'Hello, Coffey Hayes! You have 19 unread messages.', 'Hello, Leanne Hurst! You have 5 unread messages.', 'Hello, Ewing Larson! You have 16 unread messages.']\n",
      "\n",
      "\n",
      "\n",
      " Total of unread messages:  210\n"
     ]
    }
   ],
   "source": [
    "#Total number of unread messages for all users\n",
    "\n",
    "\n",
    "list_of_unread = []\n",
    "\n",
    "total_of_unread = []\n",
    "\n",
    "for unread in JL:\n",
    "    \n",
    "    unread = unread[\"greeting\"]\n",
    "    list_of_unread.append(unread)\n",
    "\n",
    "print(\"This is the list of messages: \\n\", list(list_of_unread))\n",
    "\n",
    "for takingoutDigit in list_of_unread:\n",
    "    for split_number in takingoutDigit.split():\n",
    "        if split_number.isdigit():\n",
    "            total_of_unread.append(int(split_number))\n",
    "\n",
    "#unread_sum = sum(total_of_unread)\n",
    "print(\"\\n\")\n",
    "\n",
    "print(\"\\n Total of unread messages: \",sum(total_of_unread))"
   ]
  },
  {
   "cell_type": "code",
   "execution_count": null,
   "id": "9f680903",
   "metadata": {},
   "outputs": [],
   "source": []
  }
 ],
 "metadata": {
  "kernelspec": {
   "display_name": "Python 3",
   "language": "python",
   "name": "python3"
  },
  "language_info": {
   "codemirror_mode": {
    "name": "ipython",
    "version": 3
   },
   "file_extension": ".py",
   "mimetype": "text/x-python",
   "name": "python",
   "nbconvert_exporter": "python",
   "pygments_lexer": "ipython3",
   "version": "3.8.8"
  }
 },
 "nbformat": 4,
 "nbformat_minor": 5
}
