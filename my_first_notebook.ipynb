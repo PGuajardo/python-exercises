{
 "cells": [
  {
   "cell_type": "code",
   "execution_count": 5,
   "id": "6e2ff689",
   "metadata": {},
   "outputs": [
    {
     "name": "stdout",
     "output_type": "stream",
     "text": [
      "Typing in jupyter notebook in terminal will open the webbrowser and the current file path I'm in!\n",
      "\n",
      "Another way of opening jupyter notebook is command- mac button, shift, and the option key will open up jupyter!\n",
      "\n",
      "Lastly another hidden way to open it is via chrome as well!\n"
     ]
    }
   ],
   "source": [
    "print(\"Typing in jupyter notebook in terminal will open the webbrowser and the current file path I'm in!\\n\")\n",
    "print(\"Another way of opening jupyter notebook is command- mac button, shift, and the option key will open up jupyter!\\n\")\n",
    "print(\"Lastly another hidden way to open it is via chrome as well!\")"
   ]
  },
  {
   "cell_type": "code",
   "execution_count": null,
   "id": "aa87134a",
   "metadata": {},
   "outputs": [],
   "source": []
  }
 ],
 "metadata": {
  "kernelspec": {
   "display_name": "Python 3",
   "language": "python",
   "name": "python3"
  },
  "language_info": {
   "codemirror_mode": {
    "name": "ipython",
    "version": 3
   },
   "file_extension": ".py",
   "mimetype": "text/x-python",
   "name": "python",
   "nbconvert_exporter": "python",
   "pygments_lexer": "ipython3",
   "version": "3.8.8"
  }
 },
 "nbformat": 4,
 "nbformat_minor": 5
}
