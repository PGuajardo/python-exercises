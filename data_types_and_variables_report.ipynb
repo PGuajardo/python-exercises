{
 "cells": [
  {
   "cell_type": "code",
   "execution_count": 1,
   "id": "d317fd4f",
   "metadata": {},
   "outputs": [
    {
     "name": "stdout",
     "output_type": "stream",
     "text": [
      "Total Price:  27\n"
     ]
    }
   ],
   "source": [
    "little_mermaid = 3\n",
    "brother_bead = 5\n",
    "Hercules = 1\n",
    "\n",
    "total_price_owed = ((little_mermaid) + (brother_bead) + (Hercules)) * 3\n",
    "print('Total Price: ', total_price_owed)"
   ]
  },
  {
   "cell_type": "code",
   "execution_count": 2,
   "id": "169693c0",
   "metadata": {},
   "outputs": [
    {
     "name": "stdout",
     "output_type": "stream",
     "text": [
      "7420\n"
     ]
    }
   ],
   "source": [
    "google = 400\n",
    "amazon = 380\n",
    "facebook = 350\n",
    "\n",
    "weekpay = (facebook*10) + (google*6) + (amazon*4)\n",
    "print(weekpay)"
   ]
  },
  {
   "cell_type": "code",
   "execution_count": 3,
   "id": "8629f439",
   "metadata": {},
   "outputs": [
    {
     "name": "stdout",
     "output_type": "stream",
     "text": [
      "Enrolled in Classroom\n"
     ]
    }
   ],
   "source": [
    "full_classroom  = False\n",
    "on_schedule = False\n",
    "\n",
    "if  not full_classroom and not on_schedule:\n",
    "    print(\"Enrolled in Classroom\")"
   ]
  },
  {
   "cell_type": "code",
   "execution_count": 4,
   "id": "1427f4b4",
   "metadata": {},
   "outputs": [
    {
     "name": "stdout",
     "output_type": "stream",
     "text": [
      "The offer is avaliable\n"
     ]
    }
   ],
   "source": [
    "product_more_than_one =  2\n",
    "offer_deal = True\n",
    "\n",
    "premimum = False \n",
    "\n",
    "if (((product_more_than_one > 1) and (offer_deal and not False)) or ( premimum == True )):\n",
    "    print(\"The offer is avaliable\")"
   ]
  },
  {
   "cell_type": "code",
   "execution_count": 8,
   "id": "8ffd444e",
   "metadata": {},
   "outputs": [
    {
     "name": "stdout",
     "output_type": "stream",
     "text": [
      "True\n",
      "True\n"
     ]
    }
   ],
   "source": [
    "username = 'codeup'\n",
    "password = 'notastrongpassword'\n",
    "#Create a variable that holds a boolean value for each of the following conditions:\n",
    "\n",
    "#the password must be at least 5 characters\n",
    "\n",
    "just_right = len(password) >= 5\n",
    "\n",
    "#the username must be no more than 20 characters\n",
    "\n",
    "not_too_long = len(username) <= 20\n",
    "\n",
    "#the password must not be the same as the username\n",
    "\n",
    "unique_pass = password != username\n",
    "\n",
    "\n",
    "\n",
    "all_of_it_is_correct = just_right and not_too_long and unique_pass\n",
    "print(all_of_it_is_correct)\n",
    "#bonus neither the username or password can start or end with whitespace\n",
    "\n",
    "not_itself = username.strip() != username\n",
    "not_password = password.strip() != password\n",
    "\n",
    "no_white = not not_itself or not not_password\n",
    "print(no_white)"
   ]
  },
  {
   "cell_type": "code",
   "execution_count": null,
   "id": "f7e33700",
   "metadata": {},
   "outputs": [],
   "source": []
  }
 ],
 "metadata": {
  "kernelspec": {
   "display_name": "Python 3",
   "language": "python",
   "name": "python3"
  },
  "language_info": {
   "codemirror_mode": {
    "name": "ipython",
    "version": 3
   },
   "file_extension": ".py",
   "mimetype": "text/x-python",
   "name": "python",
   "nbconvert_exporter": "python",
   "pygments_lexer": "ipython3",
   "version": "3.8.8"
  }
 },
 "nbformat": 4,
 "nbformat_minor": 5
}
