{
 "cells": [
  {
   "cell_type": "markdown",
   "id": "af3b8a3b",
   "metadata": {},
   "source": [
    "# 1) is_two function"
   ]
  },
  {
   "cell_type": "code",
   "execution_count": 5,
   "id": "16607cf0",
   "metadata": {},
   "outputs": [
    {
     "name": "stdout",
     "output_type": "stream",
     "text": [
      "True\n",
      "True\n",
      "False\n"
     ]
    }
   ],
   "source": [
    "# My is_two defines a single parameter x, that is either an integer \n",
    "# or a string and will return true or false if its 2 or the string '2'\n",
    "def is_two(x):\n",
    "    # Check if x is either the integer 2 or the character 2\n",
    "    if x == 2 or x == '2':\n",
    "        # Return True if passed\n",
    "        return True\n",
    "    else:\n",
    "        # Else we'll return false if it is neither integer 2 or character 2\n",
    "        return False\n",
    "\n",
    "# Test for interger 2    \n",
    "print(is_two(2))\n",
    "# Test for character 2\n",
    "print(is_two('2'))\n",
    "# Test for faliure \n",
    "print(is_two(5))"
   ]
  },
  {
   "cell_type": "code",
   "execution_count": 2,
   "id": "a34355e5",
   "metadata": {},
   "outputs": [
    {
     "name": "stdout",
     "output_type": "stream",
     "text": [
      "True\n",
      "True\n",
      "False\n"
     ]
    }
   ],
   "source": [
    "def istwo(x):\n",
    "    return x in [2,'2']\n",
    "\n",
    "print(istwo(2))\n",
    "print(istwo('2'))\n",
    "print(istwo(5))"
   ]
  },
  {
   "cell_type": "markdown",
   "id": "81d852cb",
   "metadata": {},
   "source": [
    "### Walkthrough of is_two\n",
    "1. When we pass integer 2, the condition will evaluate True and the first branch of the if statement will be followed. The return value will be passed as True, so our output will be `print` True on our console/notebook!\n",
    "\n",
    "```print(is_two(2))```\n",
    "\n",
    "2. When we pass character 2, the condition will evaluate True and the first branch of the if statement will be followed. The return value will be passed as True, so our output will be `print` True on our console/notebook!\n",
    "\n",
    "```print(is_two('2'))```\n",
    "\n",
    "3. When we pass 5, the condition will evaluate False and the second branch of the if statement will be followed. The return value will be passed as False, so our output will be `print` False on our console/notebook!\n",
    "\n",
    "```print(is_two(5))```"
   ]
  },
  {
   "cell_type": "markdown",
   "id": "e9904f0a",
   "metadata": {},
   "source": [
    "# 2) is_vowel function"
   ]
  },
  {
   "cell_type": "code",
   "execution_count": 5,
   "id": "4d211417",
   "metadata": {},
   "outputs": [
    {
     "name": "stdout",
     "output_type": "stream",
     "text": [
      "True\n",
      "False\n"
     ]
    }
   ],
   "source": [
    "# My is_vowel function defines parameter x, that is either a vowel, which is set by my variable\n",
    "# vowels as 'aeiouAEIOU', that returns True if x is within variable vowels else it returns false\n",
    "def is_vowel(x):\n",
    "    # Creating a variable with a set object of all the vowels and their capitilization\n",
    "    vowels = set('aeiou')\n",
    "    # Setting variable x as a lower case using .lower() method\n",
    "    x = x.lower()\n",
    "    # Check if x contains any element in vowels variable\n",
    "    if x in vowels:\n",
    "        # Return True if it contains any elements in vowels\n",
    "        return True\n",
    "    else:\n",
    "        # Return False if it doesn't contain any elements in vowels\n",
    "        return False\n",
    "\n",
    "    \n",
    "# Test for vowel True    \n",
    "print(is_vowel(\"o\"))\n",
    "# Test for vowel False\n",
    "print(is_vowel(\"z\")) "
   ]
  },
  {
   "cell_type": "markdown",
   "id": "4ec1d309",
   "metadata": {},
   "source": [
    "## Walkthrough of is_vowel function\n",
    "\n",
    "1. When we pass the character \"o\", is_vowel will create a variable named vowels that contains the elements `aeiou` and will lower the parameter if there was case of a capitilzed character, the condition will then evaluate True and the first branch in the statement will follow. The return value will be passed in our `print` function as True, so we'll see True printed out on our terminal/notebook.\n",
    "\n",
    "```print(is_vowel(\"o\"))```\n",
    "\n",
    "2. When we pass the characte \"z\",is_vowel will create a variable named vowels that contains the elements `aeiou` and will lower the parameter if there was case of a capitilzed character, the condition will evaluate False and the second branch in the statement will follow. Then the return value will be passed in our `print` function as False, so we'll see False printed out on our terminal/notebook.\n",
    "\n",
    "```print(is_vowel(\"z\")) ```"
   ]
  },
  {
   "cell_type": "markdown",
   "id": "f769d1d1",
   "metadata": {},
   "source": [
    "# 3) is_consonat function"
   ]
  },
  {
   "cell_type": "code",
   "execution_count": 12,
   "id": "4ca05ba6",
   "metadata": {},
   "outputs": [
    {
     "name": "stdout",
     "output_type": "stream",
     "text": [
      "False\n",
      "True\n"
     ]
    }
   ],
   "source": [
    "# My is_consonat function defines parameter x, will determine if it is a consonat by testing if it returns False \n",
    "# using the is_vowel function, if its False the statement will return True, else it returns False\n",
    "def is_consonat(x):\n",
    "# Check if parameter x in function is_vowel returns not True\n",
    "    if is_vowel(x) != True:\n",
    "        # Return True if it returns False in is_vowel function\n",
    "        return True\n",
    "    else:\n",
    "        # Return False if its returns True in is_vowel function\n",
    "        return False\n",
    "# Test for faliure\n",
    "print(is_consonat(\"a\"))\n",
    "# Test for Pass\n",
    "print(is_consonat(\"z\"))"
   ]
  },
  {
   "cell_type": "code",
   "execution_count": 6,
   "id": "04016406",
   "metadata": {},
   "outputs": [
    {
     "name": "stdout",
     "output_type": "stream",
     "text": [
      "False\n",
      "True\n"
     ]
    }
   ],
   "source": [
    "def isconsonat(x):\n",
    "    return not is_vowel(x)\n",
    "\n",
    "print(isconsonat(\"a\"))\n",
    "print(isconsonat(\"z\"))"
   ]
  },
  {
   "cell_type": "markdown",
   "id": "1438a35e",
   "metadata": {},
   "source": [
    "## Walkthrough of is_consonat function\n",
    "\n",
    "1. When we pass character \"a\", is_consonat function will set charater \"a\" in is_vowel function. is_vowel function will  test if character \"a\" is in variable vowels which contains `aeiou` and it the character will be lowered if there was a case of it being a capitilized character. Since character \"a\" is in vowels, the condition is True in the first branch statement then it will follow to return True. Since it returns True, it will fail and continue to the second condition in the second branch in is_consonat function and will follow to return False. This will value will pass to my `print` as False, so we'll see False printed out on our termnal/notebook.\n",
    "\n",
    "```print(is_consonat(\"a\"))```\n",
    "\n",
    "2. When we pass character \"z\", is_consonat function will set charater \"z\" in is_vowel function. is_vowel function will  test if character \"a\" is in variable vowels which contains `aeiou` and it the character will be lowered if there was a case of it being a capitilized character. Since character \"z\" is not in vowels, the condition is False in the second branch statement then it will follow to return False. Since it returns False, it will pass the first condition in the first branch in is_consonat function and will follow to return True. This will value will pass to my `print` as True, so we'll see True printed out on our termnal/notebook.\n",
    "\n",
    "```print(is_consonat(\"z\"))```"
   ]
  },
  {
   "cell_type": "markdown",
   "id": "d684621e",
   "metadata": {},
   "source": [
    "# 4) is_capital_first_word_consonat function"
   ]
  },
  {
   "cell_type": "code",
   "execution_count": 15,
   "id": "14d6a2bc",
   "metadata": {},
   "outputs": [
    {
     "name": "stdout",
     "output_type": "stream",
     "text": [
      "Zebra\n",
      "owl\n"
     ]
    }
   ],
   "source": [
    "# My is_capital_first_word_consonat function defines parameter x, will determine if there is capital consonat by \n",
    "# passing the first element in parameter x in the function is_consonat and if it passes as True, it will capitalize\n",
    "# parameter x by using method .capitalize() else it will just print parameter x!\n",
    "def is_capital_first_word_consonat(x):\n",
    "    # Will using method .lower() to lower all elements in the supposed string x\n",
    "    x = x.lower()\n",
    "    # Checking if the first element in the string x will pass True in function is_consonat will be equal to True\n",
    "    if is_consonat(x[0]) == True:\n",
    "        #Returns parameter x using .capitalize() in print statement\n",
    "        return print(x.capitalize())\n",
    "    else:\n",
    "        #Returns a print of x\n",
    "        return print(x)\n",
    "\n",
    "# Test for pass\n",
    "is_capital_first_word_consonat(\"zebra\")\n",
    "# Test for faliure\n",
    "is_capital_first_word_consonat(\"owl\")"
   ]
  },
  {
   "cell_type": "markdown",
   "id": "811fcc16",
   "metadata": {},
   "source": [
    "## Walkthrough of is_capital_first_word_consonat function\n",
    "\n",
    "1. We will pass parameter string \"zebra\" in is_capital_first_word_consonat function. We will lower the parameter using .lower() which will lowercase all elements in our parameter. Then in our first condition we will evaluate if the first element in \"zebra\" which will be \"z\" will pass as True in function `is_consonat`. Since it returns True in `is_consonat` and that is equal to True it will pass the first condition branch and will follow to return a `print` of paramater string \"zebra\" using method `.capitalize()` which will capitalize the first element in the string which will return \"Zebra\" on the terminal/notebook. \n",
    "\n",
    "```is_capital_first_word_consonat(\"zebra\")```\n",
    "\n",
    "\n",
    "2. We will pass parameter string \"zebra\" in is_capital_first_word_consonat function. We will lower the parameter using .lower() which will lowercase all elements in our parameter. Then in our first condition we will evaluate if the first element in \"zebra\" which will be \"z\" will pass as True in function `is_consonat`. Since it returns True in `is_consonat` and that is equal to True it will pass the first condition branch and will follow to return a `print` of paramater string \"zebra\" using method `.capitalize()` which will capitalize the first element in the string which will return \"Zebra\" on the terminal/notebook.\n",
    "\n",
    "```is_capital_first_word_consonat(\"owl\")```"
   ]
  },
  {
   "cell_type": "markdown",
   "id": "cc8976aa",
   "metadata": {},
   "source": [
    "# 5) calculate_tip function"
   ]
  },
  {
   "cell_type": "code",
   "execution_count": 17,
   "id": "8e6cb1d3",
   "metadata": {},
   "outputs": [
    {
     "data": {
      "text/plain": [
       "10.0"
      ]
     },
     "execution_count": 17,
     "metadata": {},
     "output_type": "execute_result"
    }
   ],
   "source": [
    "def calculate_tip(x, y):\n",
    "    \n",
    "    total = ((x+1) * y) \n",
    "    tip_amount = total - y\n",
    "    return tip_amount\n",
    "\n",
    "calculate_tip(.25, 40)"
   ]
  },
  {
   "cell_type": "markdown",
   "id": "ca2d42ea",
   "metadata": {},
   "source": [
    "# 6) apply_discount function"
   ]
  },
  {
   "cell_type": "code",
   "execution_count": 15,
   "id": "d2c39c8b",
   "metadata": {},
   "outputs": [
    {
     "data": {
      "text/plain": [
       "20.0"
      ]
     },
     "execution_count": 15,
     "metadata": {},
     "output_type": "execute_result"
    }
   ],
   "source": [
    "def apply_discount(total_price,discount_perc):\n",
    "    discount_price = total_price * (discount_perc/100)\n",
    "    return discount_price\n",
    "\n",
    "apply_discount(80,25)"
   ]
  },
  {
   "cell_type": "markdown",
   "id": "54a47dde",
   "metadata": {},
   "source": [
    "# 7) handle_commas function"
   ]
  },
  {
   "cell_type": "code",
   "execution_count": 43,
   "id": "518d153d",
   "metadata": {},
   "outputs": [
    {
     "data": {
      "text/plain": [
       "7873"
      ]
     },
     "execution_count": 43,
     "metadata": {},
     "output_type": "execute_result"
    }
   ],
   "source": [
    "def handle_commas(x):\n",
    "    return int(x.replace(\",\", \"\")) \n",
    "\n",
    "handle_commas(\"787,,3\")"
   ]
  },
  {
   "cell_type": "markdown",
   "id": "1a075d6f",
   "metadata": {},
   "source": [
    "# 8) get_letter_grade function"
   ]
  },
  {
   "cell_type": "code",
   "execution_count": 22,
   "id": "16d44d95",
   "metadata": {},
   "outputs": [
    {
     "name": "stdout",
     "output_type": "stream",
     "text": [
      "A\n",
      "B\n",
      "C\n",
      "D\n",
      "F\n"
     ]
    }
   ],
   "source": [
    "def get_letter_grade(x):\n",
    "    while not x >= 100 and not x < 0:\n",
    "        if x > 90:\n",
    "            return print(\"A\")\n",
    "        elif x > 80:\n",
    "            return print(\"B\")\n",
    "        elif x > 70:\n",
    "            return print(\"C\")\n",
    "        elif x > 60:\n",
    "            return print(\"D\")\n",
    "        else:\n",
    "            return print(\"F\")\n",
    "\n",
    "get_letter_grade(99)\n",
    "get_letter_grade(85)\n",
    "get_letter_grade(75)\n",
    "get_letter_grade(66)\n",
    "get_letter_grade(33)\n",
    "get_letter_grade(129)\n",
    "get_letter_grade(-6)"
   ]
  },
  {
   "cell_type": "code",
   "execution_count": 25,
   "id": "20d8125b",
   "metadata": {},
   "outputs": [
    {
     "data": {
      "text/plain": [
       "'m'"
      ]
     },
     "execution_count": 25,
     "metadata": {},
     "output_type": "execute_result"
    }
   ],
   "source": [
    "def remove_vowels(x):\n",
    "\n",
    "    for i in x:\n",
    "        if is_vowel(i) == True:\n",
    "            x = x.replace(i, \"\")\n",
    "            \n",
    "    return x\n",
    "\n",
    "remove_vowels(\"moo\")"
   ]
  },
  {
   "cell_type": "code",
   "execution_count": 17,
   "id": "88ab1373",
   "metadata": {},
   "outputs": [
    {
     "name": "stdout",
     "output_type": "stream",
     "text": [
      "paige\n",
      "paige_guajardo\n",
      "paige\n",
      "paige_josiah_guajardo\n"
     ]
    }
   ],
   "source": [
    "def normalize_name(x):    \n",
    "    x = x.lower().strip('.!@#$%^&*()?><+=')\n",
    "    x = x.strip()\n",
    "    x = x.replace(\" \",\"_\")\n",
    "    return x\n",
    "\n",
    "print(normalize_name(\"Paige\"))\n",
    "print(normalize_name(\"Paige Guajardo\"))\n",
    "print(normalize_name(\"#$! Paige\"))\n",
    "print(normalize_name(\"$%$#@!!@ Paige Josiah Guajardo $$$#%#@\"))"
   ]
  },
  {
   "cell_type": "code",
   "execution_count": 2,
   "id": "e11ac0c8",
   "metadata": {},
   "outputs": [
    {
     "name": "stdout",
     "output_type": "stream",
     "text": [
      "[1, 3, 6]\n",
      "[1, 3, 6, 10]\n"
     ]
    }
   ],
   "source": [
    "def cumulative_sum(x):\n",
    "    output = []\n",
    "    y = 0\n",
    "    for i in range(len(x)):\n",
    "        y += x[i]\n",
    "        output.append(y)\n",
    "    return output\n",
    "\n",
    "print(cumulative_sum([1,2,3]))\n",
    "print(cumulative_sum([1,2,3,4]))"
   ]
  },
  {
   "cell_type": "code",
   "execution_count": 21,
   "id": "8af6b42c",
   "metadata": {},
   "outputs": [
    {
     "name": "stdout",
     "output_type": "stream",
     "text": [
      "7:45:00am\n",
      "12:30:00am\n",
      "18:30:00pm\n",
      "24:30:00pm\n"
     ]
    }
   ],
   "source": [
    "def twelveto24(s):\n",
    "    if s[-2:] == \"am\":\n",
    "        if s[:2] == \"12\":\n",
    "            a = str(s[:5] + \":00\" + s[-2:])\n",
    "        else:\n",
    "            a = str(s[:4] + \":00\" + s[-2:])\n",
    "    else:\n",
    "        if s[:2] == \"12\":\n",
    "            pm = str(int(s[:2]) + 12)\n",
    "            a = str(pm + s[2:5] + \":00\" + s[-2:])\n",
    "        else:\n",
    "            pm = str(int(s[:1]) + 12)\n",
    "            a = str(pm + s[1:4] + \":00\" + s[-2:])\n",
    "    return a\n",
    "\n",
    "print(twelveto24(\"7:45am\"))\n",
    "print(twelveto24(\"12:30am\"))\n",
    "print(twelveto24(\"6:30pm\"))\n",
    "print(twelveto24(\"12:30pm\"))"
   ]
  },
  {
   "cell_type": "code",
   "execution_count": 18,
   "id": "42e07f2c",
   "metadata": {},
   "outputs": [
    {
     "name": "stdout",
     "output_type": "stream",
     "text": [
      "1\n",
      "2\n",
      "27\n",
      "182\n"
     ]
    }
   ],
   "source": [
    "def col_index(x):\n",
    "    \n",
    "    list_letter = []\n",
    "    \n",
    "    all_the_previous_letters = []\n",
    "    x = x.lower()\n",
    "    \n",
    "    for i in x:\n",
    "        if len(x) > 1:\n",
    "            \n",
    "            \n",
    "            all_the_previous_letters = x[:-1]\n",
    "            \n",
    "            for k in all_the_previous_letters:\n",
    "                letter = (ord(k) - 96) * 26\n",
    "                list_letter.append(letter)\n",
    "                \n",
    "                \n",
    "                \n",
    "            last_letter = int(ord(x[-1:]) - 96)\n",
    "            list_letter.append(last_letter)\n",
    "            \n",
    "            #first_letter = int((ord(x[0]) - 96) * 26)\n",
    "            #list_letter.append(first_letter)\n",
    "            \n",
    "            #numbers = ord(i) - 96\n",
    "            #list_letter.append(numbers)\n",
    "            return sum(list_letter)\n",
    "            \n",
    "        else:\n",
    "            number = ord(i) - 96\n",
    "            list_letter.append(number)\n",
    "            return sum(list_letter)\n",
    "\n",
    "\n",
    "print(col_index(\"A\"))\n",
    "print(col_index(\"B\"))\n",
    "print(col_index(\"AA\"))\n",
    "print(col_index(\"FZ\"))\n"
   ]
  },
  {
   "cell_type": "code",
   "execution_count": null,
   "id": "53b4c3b9",
   "metadata": {},
   "outputs": [],
   "source": []
  }
 ],
 "metadata": {
  "kernelspec": {
   "display_name": "Python 3",
   "language": "python",
   "name": "python3"
  },
  "language_info": {
   "codemirror_mode": {
    "name": "ipython",
    "version": 3
   },
   "file_extension": ".py",
   "mimetype": "text/x-python",
   "name": "python",
   "nbconvert_exporter": "python",
   "pygments_lexer": "ipython3",
   "version": "3.8.8"
  }
 },
 "nbformat": 4,
 "nbformat_minor": 5
}
