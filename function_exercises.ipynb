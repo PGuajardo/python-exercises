{
 "cells": [
  {
   "cell_type": "markdown",
   "id": "af3b8a3b",
   "metadata": {},
   "source": [
    "# 1 is_two function"
   ]
  },
  {
   "cell_type": "code",
   "execution_count": 5,
   "id": "16607cf0",
   "metadata": {},
   "outputs": [
    {
     "name": "stdout",
     "output_type": "stream",
     "text": [
      "True\n",
      "True\n",
      "False\n"
     ]
    }
   ],
   "source": [
    "# our is_two defines a single parameter, x that is either a integer \n",
    "# or a string and will return true or false if its 2 or the string '2'\n",
    "def is_two(x):\n",
    "    # Check if x is either the integer 2 or the character 2\n",
    "    if x == 2 or x == '2':\n",
    "        # Return True if passed\n",
    "        return True\n",
    "    else:\n",
    "        # Else we'll return false if it is neither integer 2 or character 2\n",
    "        return False\n",
    "\n",
    "# Test for interger 2    \n",
    "print(is_two(2))\n",
    "# Test for character 2\n",
    "print(is_two('2'))\n",
    "# Test for faliure \n",
    "print(is_two(5))"
   ]
  },
  {
   "cell_type": "markdown",
   "id": "81d852cb",
   "metadata": {},
   "source": [
    "### Walkthrough of is_two\n",
    "1. When we pass integer 2, the condition will evaluate True and the first branch of the if statement will be followed. The return value will be passed as True, so our output will be `print` True on our console/notebook!\n",
    "\n",
    "```print(is_two(2))```\n",
    "\n",
    "2. When we pass character 2, the condition will evaluate True and the first branch of the if statement will be followed. The return value will be passed as True, so our output will be `print` True on our console/notebook!\n",
    "\n",
    "```print(is_two('2'))```\n",
    "\n",
    "3. When we pass 5, the condition will evaluate False and the second branch of the if statement will be followed. The return value will be passed as False, so our output will be `print` False on our console/notebook!\n",
    "\n",
    "```print(is_two(5))```"
   ]
  },
  {
   "cell_type": "code",
   "execution_count": 11,
   "id": "4d211417",
   "metadata": {},
   "outputs": [
    {
     "name": "stdout",
     "output_type": "stream",
     "text": [
      "True\n",
      "False\n"
     ]
    }
   ],
   "source": [
    "def is_vowel(x):\n",
    "    vowels = set('aeiouAEIOU')\n",
    "    \n",
    "    if x in vowels:\n",
    "        return True\n",
    "    else:\n",
    "        return False\n",
    "\n",
    "print(is_vowel(\"o\"))\n",
    "print(is_vowel(\"z\")) "
   ]
  },
  {
   "cell_type": "code",
   "execution_count": 12,
   "id": "4ca05ba6",
   "metadata": {},
   "outputs": [
    {
     "name": "stdout",
     "output_type": "stream",
     "text": [
      "False\n",
      "True\n"
     ]
    }
   ],
   "source": [
    "def is_consonat(x):\n",
    "\n",
    "    if is_vowel(x) != True:\n",
    "        return True\n",
    "    else:\n",
    "        return False\n",
    "\n",
    "print(is_consonat(\"a\"))\n",
    "print(is_consonat(\"z\"))"
   ]
  },
  {
   "cell_type": "code",
   "execution_count": 15,
   "id": "14d6a2bc",
   "metadata": {},
   "outputs": [
    {
     "name": "stdout",
     "output_type": "stream",
     "text": [
      "Zebra\n",
      "owl\n"
     ]
    }
   ],
   "source": [
    "def is_capital_first_word(x):\n",
    "\n",
    "    x = x.lower()\n",
    "    if is_consonat(x[0]) == True:\n",
    "        print(x.capitalize())\n",
    "    else:\n",
    "        print(x)\n",
    "\n",
    "is_capital_first_word(\"zebra\")\n",
    "is_capital_first_word(\"owl\")"
   ]
  },
  {
   "cell_type": "code",
   "execution_count": 17,
   "id": "8e6cb1d3",
   "metadata": {},
   "outputs": [
    {
     "data": {
      "text/plain": [
       "10.0"
      ]
     },
     "execution_count": 17,
     "metadata": {},
     "output_type": "execute_result"
    }
   ],
   "source": [
    "def calculate_tip(x, y):\n",
    "    \n",
    "    total = ((x+1) * y) \n",
    "    tip_amount = total - y\n",
    "    return tip_amount\n",
    "\n",
    "calculate_tip(.25, 40)"
   ]
  },
  {
   "cell_type": "code",
   "execution_count": 18,
   "id": "d2c39c8b",
   "metadata": {},
   "outputs": [
    {
     "data": {
      "text/plain": [
       "12.5"
      ]
     },
     "execution_count": 18,
     "metadata": {},
     "output_type": "execute_result"
    }
   ],
   "source": [
    "def apply_discount(x,y):\n",
    "    discount_perc = (y/100)\n",
    "    discount = x * discount_perc\n",
    "    return discount\n",
    "\n",
    "apply_discount(50,25)"
   ]
  },
  {
   "cell_type": "code",
   "execution_count": 43,
   "id": "518d153d",
   "metadata": {},
   "outputs": [
    {
     "data": {
      "text/plain": [
       "7873"
      ]
     },
     "execution_count": 43,
     "metadata": {},
     "output_type": "execute_result"
    }
   ],
   "source": [
    "def handle_commas(x):\n",
    "    return int(x.replace(\",\", \"\")) \n",
    "\n",
    "handle_commas(\"787,,3\")"
   ]
  },
  {
   "cell_type": "code",
   "execution_count": 22,
   "id": "16d44d95",
   "metadata": {},
   "outputs": [
    {
     "name": "stdout",
     "output_type": "stream",
     "text": [
      "A\n",
      "B\n",
      "C\n",
      "D\n",
      "F\n"
     ]
    }
   ],
   "source": [
    "def get_letter_grade(x):\n",
    "    while not x >= 100 and not x < 0:\n",
    "        if x > 90:\n",
    "            return print(\"A\")\n",
    "        elif x > 80:\n",
    "            return print(\"B\")\n",
    "        elif x > 70:\n",
    "            return print(\"C\")\n",
    "        elif x > 60:\n",
    "            return print(\"D\")\n",
    "        else:\n",
    "            return print(\"F\")\n",
    "\n",
    "get_letter_grade(99)\n",
    "get_letter_grade(85)\n",
    "get_letter_grade(75)\n",
    "get_letter_grade(66)\n",
    "get_letter_grade(33)\n",
    "get_letter_grade(129)\n",
    "get_letter_grade(-6)"
   ]
  },
  {
   "cell_type": "code",
   "execution_count": 25,
   "id": "20d8125b",
   "metadata": {},
   "outputs": [
    {
     "data": {
      "text/plain": [
       "'m'"
      ]
     },
     "execution_count": 25,
     "metadata": {},
     "output_type": "execute_result"
    }
   ],
   "source": [
    "def remove_vowels(x):\n",
    "\n",
    "    for i in x:\n",
    "        if is_vowel(i) == True:\n",
    "            x = x.replace(i, \"\")\n",
    "            \n",
    "    return x\n",
    "\n",
    "remove_vowels(\"moo\")"
   ]
  },
  {
   "cell_type": "code",
   "execution_count": 35,
   "id": "88ab1373",
   "metadata": {},
   "outputs": [
    {
     "name": "stdout",
     "output_type": "stream",
     "text": [
      "paige\n",
      "paige_guajardo\n",
      "paige\n"
     ]
    }
   ],
   "source": [
    "def normalize_name(x):\n",
    "\n",
    "    non_python_identifiers = set('.!@#$%^&*()?><+=')\n",
    "\n",
    "    for j in non_python_identifiers:\n",
    "        x = x.replace(j, \"\")\n",
    "    \n",
    "    x = x.strip()\n",
    "    x = x.lower()\n",
    "    \n",
    "    for i in x:\n",
    "        if i == \" \":\n",
    "            x = x.replace(i,\"_\")\n",
    "    return x\n",
    "\n",
    "print(normalize_name(\"Paige\"))\n",
    "print(normalize_name(\"Paige Guajardo\"))\n",
    "print(normalize_name(\"#$! Paige\"))"
   ]
  },
  {
   "cell_type": "code",
   "execution_count": 41,
   "id": "e11ac0c8",
   "metadata": {},
   "outputs": [
    {
     "name": "stdout",
     "output_type": "stream",
     "text": [
      "[1, 3, 6]\n",
      "[1, 3, 6, 10]\n"
     ]
    }
   ],
   "source": [
    "def cumulative_sum(x):\n",
    "    output = []\n",
    "    y = 0\n",
    "    for i in range(0, len(x)):\n",
    "        y += x[i]\n",
    "        output.append(y)\n",
    "    return output\n",
    "\n",
    "print(cumulative_sum([1,2,3]))\n",
    "print(cumulative_sum([1,2,3,4]))"
   ]
  },
  {
   "cell_type": "code",
   "execution_count": null,
   "id": "8af6b42c",
   "metadata": {},
   "outputs": [],
   "source": []
  }
 ],
 "metadata": {
  "kernelspec": {
   "display_name": "Python 3",
   "language": "python",
   "name": "python3"
  },
  "language_info": {
   "codemirror_mode": {
    "name": "ipython",
    "version": 3
   },
   "file_extension": ".py",
   "mimetype": "text/x-python",
   "name": "python",
   "nbconvert_exporter": "python",
   "pygments_lexer": "ipython3",
   "version": "3.8.8"
  }
 },
 "nbformat": 4,
 "nbformat_minor": 5
}
