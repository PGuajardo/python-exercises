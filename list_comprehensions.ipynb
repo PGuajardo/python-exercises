{
 "cells": [
  {
   "cell_type": "code",
   "execution_count": 22,
   "id": "2a895dca",
   "metadata": {},
   "outputs": [],
   "source": [
    "fruits = ['mango', 'kiwi', 'strawberry', 'guava', 'pineapple', 'mandarin orange']"
   ]
  },
  {
   "cell_type": "code",
   "execution_count": 47,
   "id": "85099ad9",
   "metadata": {},
   "outputs": [],
   "source": [
    "numbers = [2, 3, 4, 5, 6, 7, 8, 9, 10, 11, 13, 17, 19, 23, 256, -8, -4, -2, 5, -9]"
   ]
  },
  {
   "cell_type": "markdown",
   "id": "3816c1e7",
   "metadata": {},
   "source": [
    "## Exercise 1"
   ]
  },
  {
   "cell_type": "code",
   "execution_count": 25,
   "id": "1f279217",
   "metadata": {},
   "outputs": [],
   "source": [
    "uppercased_fruits = []\n",
    "for poppsack in fruits:\n",
    "    uppercased_fruits.append(poppsack.upper())"
   ]
  },
  {
   "cell_type": "code",
   "execution_count": 26,
   "id": "6250e63c",
   "metadata": {},
   "outputs": [
    {
     "data": {
      "text/plain": [
       "['MANGO', 'KIWI', 'STRAWBERRY', 'GUAVA', 'PINEAPPLE', 'MANDARIN ORANGE']"
      ]
     },
     "execution_count": 26,
     "metadata": {},
     "output_type": "execute_result"
    }
   ],
   "source": [
    "uppercased_fruits"
   ]
  },
  {
   "cell_type": "markdown",
   "id": "e9620c8d",
   "metadata": {},
   "source": [
    "### OR"
   ]
  },
  {
   "cell_type": "code",
   "execution_count": 27,
   "id": "e6324180",
   "metadata": {},
   "outputs": [
    {
     "data": {
      "text/plain": [
       "['MANGO', 'KIWI', 'STRAWBERRY', 'GUAVA', 'PINEAPPLE', 'MANDARIN ORANGE']"
      ]
     },
     "execution_count": 27,
     "metadata": {},
     "output_type": "execute_result"
    }
   ],
   "source": [
    "uppercased_fruits2 = [fruit.upper() for fruit in fruits]\n",
    "uppercased_fruits2"
   ]
  },
  {
   "cell_type": "markdown",
   "id": "40d3ec78",
   "metadata": {},
   "source": [
    "## Exercise 2"
   ]
  },
  {
   "cell_type": "code",
   "execution_count": 10,
   "id": "c41abc55",
   "metadata": {},
   "outputs": [],
   "source": [
    "capitalized_fruits = []\n",
    "for i in fruits:\n",
    "    capitalized_fruits.append(i.title())"
   ]
  },
  {
   "cell_type": "code",
   "execution_count": 11,
   "id": "1f1b1487",
   "metadata": {},
   "outputs": [
    {
     "data": {
      "text/plain": [
       "['Mango', 'Kiwi', 'Strawberry', 'Guava', 'Pineapple', 'Mandarin Orange']"
      ]
     },
     "execution_count": 11,
     "metadata": {},
     "output_type": "execute_result"
    }
   ],
   "source": [
    "capitalized_fruits"
   ]
  },
  {
   "cell_type": "markdown",
   "id": "1002c0ff",
   "metadata": {},
   "source": [
    "### OR"
   ]
  },
  {
   "cell_type": "code",
   "execution_count": 28,
   "id": "d395e154",
   "metadata": {},
   "outputs": [
    {
     "data": {
      "text/plain": [
       "['Mango', 'Kiwi', 'Strawberry', 'Guava', 'Pineapple', 'Mandarin Orange']"
      ]
     },
     "execution_count": 28,
     "metadata": {},
     "output_type": "execute_result"
    }
   ],
   "source": [
    "capitalized_fruits2 = [fruit.title() for fruit in fruits]\n",
    "capitalized_fruits2"
   ]
  },
  {
   "cell_type": "markdown",
   "id": "1d01ebb5",
   "metadata": {},
   "source": [
    "## Exercise 3"
   ]
  },
  {
   "cell_type": "code",
   "execution_count": 13,
   "id": "d8ed7623",
   "metadata": {},
   "outputs": [],
   "source": [
    "fruits_with_more_than_two_vowels = []\n",
    "\n",
    "vowels = set('aeiou')\n",
    "# counter to counts vowels\n",
    "c = 0\n",
    "# counter to count first item\n",
    "word = 0\n",
    "# counter for word with 2 letters i it\n",
    "extra_word = 1\n",
    "\n",
    "for i in fruits:\n",
    "    word = word + 1\n",
    "    for k in i:\n",
    "        if k in vowels:\n",
    "            c = c + 1\n",
    "            if c > 2:\n",
    "                fruits_with_more_than_two_vowels.append(i)\n",
    "                extra_word = extra_word + 1"
   ]
  },
  {
   "cell_type": "code",
   "execution_count": 14,
   "id": "825a6189",
   "metadata": {},
   "outputs": [
    {
     "data": {
      "text/plain": [
       "['kiwi',\n",
       " 'kiwi',\n",
       " 'strawberry',\n",
       " 'strawberry',\n",
       " 'guava',\n",
       " 'guava',\n",
       " 'guava',\n",
       " 'pineapple',\n",
       " 'pineapple',\n",
       " 'pineapple',\n",
       " 'pineapple',\n",
       " 'mandarin orange',\n",
       " 'mandarin orange',\n",
       " 'mandarin orange',\n",
       " 'mandarin orange',\n",
       " 'mandarin orange',\n",
       " 'mandarin orange']"
      ]
     },
     "execution_count": 14,
     "metadata": {},
     "output_type": "execute_result"
    }
   ],
   "source": [
    "fruits_with_more_than_two_vowels"
   ]
  },
  {
   "cell_type": "markdown",
   "id": "b1782abd",
   "metadata": {},
   "source": [
    "### Right answer"
   ]
  },
  {
   "cell_type": "code",
   "execution_count": 29,
   "id": "2a592188",
   "metadata": {},
   "outputs": [
    {
     "data": {
      "text/plain": [
       "['guava', 'pineapple', 'mandarin orange']"
      ]
     },
     "execution_count": 29,
     "metadata": {},
     "output_type": "execute_result"
    }
   ],
   "source": [
    "fruits_with_more_than_two_vowels = [fruit for fruit in fruits if (len([letter for letter in fruit if letter.lower() in 'aeiou'])> 2)]\n",
    "fruits_with_more_than_two_vowels"
   ]
  },
  {
   "cell_type": "markdown",
   "id": "181929c9",
   "metadata": {},
   "source": [
    "## Exercise 4"
   ]
  },
  {
   "cell_type": "code",
   "execution_count": 30,
   "id": "28527647",
   "metadata": {},
   "outputs": [
    {
     "data": {
      "text/plain": [
       "['mango', 'kiwi', 'strawberry']"
      ]
     },
     "execution_count": 30,
     "metadata": {},
     "output_type": "execute_result"
    }
   ],
   "source": [
    "fruits_with_just_two_vowels = [fruit for fruit in fruits if (len([letter for letter in fruit if letter.lower() in 'aeiou'])== 2)]\n",
    "fruits_with_just_two_vowels"
   ]
  },
  {
   "cell_type": "markdown",
   "id": "aab9e66c",
   "metadata": {},
   "source": [
    "## Exercise 5"
   ]
  },
  {
   "cell_type": "code",
   "execution_count": 15,
   "id": "62d3d748",
   "metadata": {},
   "outputs": [],
   "source": [
    "five_letter_fruit = []\n",
    "\n",
    "for i in fruits:\n",
    "        if len(i) > 5:\n",
    "            five_letter_fruit.append(i)"
   ]
  },
  {
   "cell_type": "code",
   "execution_count": 16,
   "id": "a8f5e0ff",
   "metadata": {},
   "outputs": [
    {
     "data": {
      "text/plain": [
       "['strawberry', 'pineapple', 'mandarin orange']"
      ]
     },
     "execution_count": 16,
     "metadata": {},
     "output_type": "execute_result"
    }
   ],
   "source": [
    "five_letter_fruit"
   ]
  },
  {
   "cell_type": "markdown",
   "id": "09edde19",
   "metadata": {},
   "source": [
    "### OR"
   ]
  },
  {
   "cell_type": "code",
   "execution_count": 39,
   "id": "9f558fa4",
   "metadata": {},
   "outputs": [
    {
     "data": {
      "text/plain": [
       "['strawberry', 'pineapple', 'mandarin orange']"
      ]
     },
     "execution_count": 39,
     "metadata": {},
     "output_type": "execute_result"
    }
   ],
   "source": [
    "[fruit for fruit in fruits if len(fruit) > 5]"
   ]
  },
  {
   "cell_type": "markdown",
   "id": "8e02bab8",
   "metadata": {},
   "source": [
    "## Exercise 6"
   ]
  },
  {
   "cell_type": "code",
   "execution_count": 31,
   "id": "69b8eb3b",
   "metadata": {},
   "outputs": [],
   "source": [
    "exact_five_letter_fruit = []\n",
    "\n",
    "for i in fruits:\n",
    "        if len(i) == 5:\n",
    "            exact_five_letter_fruit.append(i)\n"
   ]
  },
  {
   "cell_type": "code",
   "execution_count": 32,
   "id": "52817ed6",
   "metadata": {},
   "outputs": [
    {
     "data": {
      "text/plain": [
       "['mango', 'guava']"
      ]
     },
     "execution_count": 32,
     "metadata": {},
     "output_type": "execute_result"
    }
   ],
   "source": [
    "exact_five_letter_fruit"
   ]
  },
  {
   "cell_type": "markdown",
   "id": "b7c1240e",
   "metadata": {},
   "source": [
    "### OR"
   ]
  },
  {
   "cell_type": "code",
   "execution_count": 38,
   "id": "03c618d1",
   "metadata": {},
   "outputs": [
    {
     "data": {
      "text/plain": [
       "['mango', 'guava']"
      ]
     },
     "execution_count": 38,
     "metadata": {},
     "output_type": "execute_result"
    }
   ],
   "source": [
    "[fruit for fruit in fruits if len(fruit) == 5]"
   ]
  },
  {
   "cell_type": "markdown",
   "id": "e1c45aa9",
   "metadata": {},
   "source": [
    "## Exercise 7"
   ]
  },
  {
   "cell_type": "code",
   "execution_count": 33,
   "id": "bd0c97e0",
   "metadata": {},
   "outputs": [],
   "source": [
    "less_five_letter_fruits = []\n",
    "\n",
    "for i in fruits:\n",
    "    if len(i) < 5:\n",
    "        less_five_letter_fruits.append(i)"
   ]
  },
  {
   "cell_type": "code",
   "execution_count": 34,
   "id": "cdee4da7",
   "metadata": {},
   "outputs": [
    {
     "data": {
      "text/plain": [
       "['kiwi']"
      ]
     },
     "execution_count": 34,
     "metadata": {},
     "output_type": "execute_result"
    }
   ],
   "source": [
    "less_five_letter_fruits"
   ]
  },
  {
   "cell_type": "markdown",
   "id": "a87fcb18",
   "metadata": {},
   "source": [
    "### OR"
   ]
  },
  {
   "cell_type": "code",
   "execution_count": null,
   "id": "ee2a8fb7",
   "metadata": {},
   "outputs": [],
   "source": [
    "[fruit for fruit in furits if lent(fruit % 5)]"
   ]
  },
  {
   "cell_type": "markdown",
   "id": "cd8336ed",
   "metadata": {},
   "source": [
    "## Exercise 8"
   ]
  },
  {
   "cell_type": "code",
   "execution_count": 35,
   "id": "fc44d7c3",
   "metadata": {},
   "outputs": [],
   "source": [
    "length_of_char_fruits = []\n",
    "\n",
    "for i in fruits:\n",
    "    c = len(i)\n",
    "    length_of_char_fruits.append(c)"
   ]
  },
  {
   "cell_type": "code",
   "execution_count": 37,
   "id": "58ccc0c5",
   "metadata": {},
   "outputs": [
    {
     "data": {
      "text/plain": [
       "[5, 4, 10, 5, 9, 15]"
      ]
     },
     "execution_count": 37,
     "metadata": {},
     "output_type": "execute_result"
    }
   ],
   "source": [
    "length_of_char_fruits"
   ]
  },
  {
   "cell_type": "markdown",
   "id": "1d44c30c",
   "metadata": {},
   "source": [
    "### OR"
   ]
  },
  {
   "cell_type": "code",
   "execution_count": 45,
   "id": "7e8d8150",
   "metadata": {},
   "outputs": [
    {
     "data": {
      "text/plain": [
       "[5, 4, 10, 5, 9, 15]"
      ]
     },
     "execution_count": 45,
     "metadata": {},
     "output_type": "execute_result"
    }
   ],
   "source": [
    "[len(fruit) for fruit in fruits]"
   ]
  },
  {
   "cell_type": "markdown",
   "id": "0d6b0b65",
   "metadata": {},
   "source": [
    "## Exercise 9\n",
    "how I tried to solve it"
   ]
  },
  {
   "cell_type": "code",
   "execution_count": 40,
   "id": "909ce3ed",
   "metadata": {},
   "outputs": [],
   "source": [
    "fruits_with_letter_a = []\n",
    "\n",
    "c = set('a')\n",
    "\n",
    "for i in fruits:\n",
    "    for c in i:\n",
    "        if c == 'a':\n",
    "            fruits_with_letter_a.append(i)"
   ]
  },
  {
   "cell_type": "code",
   "execution_count": 41,
   "id": "6109f912",
   "metadata": {},
   "outputs": [
    {
     "data": {
      "text/plain": [
       "['mango',\n",
       " 'strawberry',\n",
       " 'guava',\n",
       " 'guava',\n",
       " 'pineapple',\n",
       " 'mandarin orange',\n",
       " 'mandarin orange',\n",
       " 'mandarin orange']"
      ]
     },
     "execution_count": 41,
     "metadata": {},
     "output_type": "execute_result"
    }
   ],
   "source": [
    "fruits_with_letter_a"
   ]
  },
  {
   "cell_type": "markdown",
   "id": "2a8984c3",
   "metadata": {},
   "source": [
    "### OR"
   ]
  },
  {
   "cell_type": "code",
   "execution_count": 52,
   "id": "28f334cf",
   "metadata": {},
   "outputs": [
    {
     "data": {
      "text/plain": [
       "['mango', 'strawberry', 'guava', 'pineapple', 'mandarin orange']"
      ]
     },
     "execution_count": 52,
     "metadata": {},
     "output_type": "execute_result"
    }
   ],
   "source": [
    "def contains_a(fruit):\n",
    "    \n",
    "    return len([letter for letter in fruit if letter == 'a']) > 0\n",
    "\n",
    "fruits_with_letter_a = [fruit for fruit in fruits if contains_a(fruit)] #if true goes through if false it does not\n",
    "\n",
    "fruits_with_letter_a"
   ]
  },
  {
   "cell_type": "markdown",
   "id": "9a255d79",
   "metadata": {},
   "source": [
    "## Exercise 10"
   ]
  },
  {
   "cell_type": "code",
   "execution_count": 49,
   "id": "777cd33c",
   "metadata": {},
   "outputs": [
    {
     "data": {
      "text/plain": [
       "[2, 4, 6, 8, 10, 256, -8, -4, -2]"
      ]
     },
     "execution_count": 49,
     "metadata": {},
     "output_type": "execute_result"
    }
   ],
   "source": [
    "even_number = [number for number in numbers if (number % 2 == 0)]\n",
    "even_number"
   ]
  },
  {
   "cell_type": "markdown",
   "id": "8797930d",
   "metadata": {},
   "source": [
    "## Exercise 11"
   ]
  },
  {
   "cell_type": "code",
   "execution_count": 54,
   "id": "92ad656e",
   "metadata": {},
   "outputs": [
    {
     "data": {
      "text/plain": [
       "[3, 5, 7, 9, 11, 13, 17, 19, 23, 5, -9]"
      ]
     },
     "execution_count": 54,
     "metadata": {},
     "output_type": "execute_result"
    }
   ],
   "source": [
    "odd_number = [number for number in numbers if number % 2 != 0]\n",
    "odd_number"
   ]
  },
  {
   "cell_type": "markdown",
   "id": "232cb8a1",
   "metadata": {},
   "source": [
    "## Exercise 12"
   ]
  },
  {
   "cell_type": "code",
   "execution_count": 55,
   "id": "86362f0c",
   "metadata": {},
   "outputs": [
    {
     "data": {
      "text/plain": [
       "[2, 3, 4, 5, 6, 7, 8, 9, 10, 11, 13, 17, 19, 23, 256, 5]"
      ]
     },
     "execution_count": 55,
     "metadata": {},
     "output_type": "execute_result"
    }
   ],
   "source": [
    "positive_num = [number for number in numbers if number > 0]\n",
    "positive_num"
   ]
  },
  {
   "cell_type": "markdown",
   "id": "84a5204a",
   "metadata": {},
   "source": [
    "## Exercise 13"
   ]
  },
  {
   "cell_type": "code",
   "execution_count": 56,
   "id": "2d50716e",
   "metadata": {},
   "outputs": [
    {
     "data": {
      "text/plain": [
       "[-8, -4, -2, -9]"
      ]
     },
     "execution_count": 56,
     "metadata": {},
     "output_type": "execute_result"
    }
   ],
   "source": [
    "negative_num = [number for number in numbers if number < 0]\n",
    "negative_num"
   ]
  },
  {
   "cell_type": "markdown",
   "id": "192a2af0",
   "metadata": {},
   "source": [
    "## Exercise 14"
   ]
  },
  {
   "cell_type": "code",
   "execution_count": 57,
   "id": "68651ece",
   "metadata": {},
   "outputs": [
    {
     "data": {
      "text/plain": [
       "[10, 11, 13, 17, 19, 23, 256]"
      ]
     },
     "execution_count": 57,
     "metadata": {},
     "output_type": "execute_result"
    }
   ],
   "source": [
    "[number for number in numbers if len(str(abs(number))) >= 2]"
   ]
  },
  {
   "cell_type": "markdown",
   "id": "d4eef6f5",
   "metadata": {},
   "source": [
    "## Exercise 15"
   ]
  },
  {
   "cell_type": "code",
   "execution_count": 58,
   "id": "f34a6d2d",
   "metadata": {},
   "outputs": [
    {
     "data": {
      "text/plain": [
       "[4,\n",
       " 9,\n",
       " 16,\n",
       " 25,\n",
       " 36,\n",
       " 49,\n",
       " 64,\n",
       " 81,\n",
       " 100,\n",
       " 121,\n",
       " 169,\n",
       " 289,\n",
       " 361,\n",
       " 529,\n",
       " 65536,\n",
       " 64,\n",
       " 16,\n",
       " 4,\n",
       " 25,\n",
       " 81]"
      ]
     },
     "execution_count": 58,
     "metadata": {},
     "output_type": "execute_result"
    }
   ],
   "source": [
    "numbers_squared = [number**2 for number in numbers]\n",
    "numbers_squared"
   ]
  },
  {
   "cell_type": "markdown",
   "id": "5fe86d64",
   "metadata": {},
   "source": [
    "## Exercise 16"
   ]
  },
  {
   "cell_type": "code",
   "execution_count": 59,
   "id": "845be7d5",
   "metadata": {},
   "outputs": [
    {
     "data": {
      "text/plain": [
       "[-9]"
      ]
     },
     "execution_count": 59,
     "metadata": {},
     "output_type": "execute_result"
    }
   ],
   "source": [
    "odd_negative_num = [number for number in numbers if (number % 2 != 0) and (number < 0)]\n",
    "odd_negative_num"
   ]
  },
  {
   "cell_type": "markdown",
   "id": "46e08384",
   "metadata": {},
   "source": [
    "## Exercise 17"
   ]
  },
  {
   "cell_type": "code",
   "execution_count": 60,
   "id": "d6cc32c7",
   "metadata": {},
   "outputs": [
    {
     "data": {
      "text/plain": [
       "[7, 8, 9, 10, 11, 12, 13, 14, 15, 16, 18, 22, 24, 28, 261, -3, 1, 3, 10, -4]"
      ]
     },
     "execution_count": 60,
     "metadata": {},
     "output_type": "execute_result"
    }
   ],
   "source": [
    "numbers_plus_5 = [number + 5 for number in numbers]\n",
    "numbers_plus_5"
   ]
  },
  {
   "cell_type": "markdown",
   "id": "6778af9e",
   "metadata": {},
   "source": [
    "# BONUS"
   ]
  },
  {
   "cell_type": "code",
   "execution_count": 64,
   "id": "9992d38b",
   "metadata": {},
   "outputs": [
    {
     "ename": "SyntaxError",
     "evalue": "invalid syntax (<ipython-input-64-3b93b765bc8d>, line 6)",
     "output_type": "error",
     "traceback": [
      "\u001b[0;36m  File \u001b[0;32m\"<ipython-input-64-3b93b765bc8d>\"\u001b[0;36m, line \u001b[0;32m6\u001b[0m\n\u001b[0;31m    return len([divider in dividers if number % divider == 0]) == 0\u001b[0m\n\u001b[0m                                                            ^\u001b[0m\n\u001b[0;31mSyntaxError\u001b[0m\u001b[0;31m:\u001b[0m invalid syntax\n"
     ]
    }
   ],
   "source": [
    "def is_prime(number):\n",
    "    if number <= 0:\n",
    "        return false\n",
    "    else:\n",
    "        dividers = [r for r in range(2, number)]\n",
    "        return len([divider in dividers if number % divider == 0]) == 0\n",
    "    \n",
    "[number for number in numbers if is_prime(number)]"
   ]
  },
  {
   "cell_type": "code",
   "execution_count": null,
   "id": "1ffcbdbb",
   "metadata": {},
   "outputs": [],
   "source": []
  }
 ],
 "metadata": {
  "kernelspec": {
   "display_name": "Python 3",
   "language": "python",
   "name": "python3"
  },
  "language_info": {
   "codemirror_mode": {
    "name": "ipython",
    "version": 3
   },
   "file_extension": ".py",
   "mimetype": "text/x-python",
   "name": "python",
   "nbconvert_exporter": "python",
   "pygments_lexer": "ipython3",
   "version": "3.8.8"
  }
 },
 "nbformat": 4,
 "nbformat_minor": 5
}
